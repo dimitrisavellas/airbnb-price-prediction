{
 "cells": [
  {
   "cell_type": "code",
   "execution_count": 1,
   "id": "eac52f0c-d421-42b3-bd14-0b8d52c06f03",
   "metadata": {},
   "outputs": [],
   "source": [
    "%store -r df_listings"
   ]
  },
  {
   "cell_type": "code",
   "execution_count": 2,
   "id": "b02fdae1-c641-47ab-a953-37215691d4d9",
   "metadata": {},
   "outputs": [
    {
     "data": {
      "text/plain": [
       "(13945, 79)"
      ]
     },
     "execution_count": 2,
     "metadata": {},
     "output_type": "execute_result"
    }
   ],
   "source": [
    "df_listings.shape"
   ]
  },
  {
   "cell_type": "code",
   "execution_count": 3,
   "id": "a74c05e9-5bd7-47ee-80f3-9c3fbe74dc07",
   "metadata": {},
   "outputs": [],
   "source": [
    "%store -r df_calendar_cleaned"
   ]
  },
  {
   "cell_type": "code",
   "execution_count": 4,
   "id": "2e971f4e-5b43-4ba6-b55c-6b9a10d8fe50",
   "metadata": {},
   "outputs": [],
   "source": [
    "%store -r merged_neighborhoods"
   ]
  },
  {
   "cell_type": "code",
   "execution_count": 5,
   "id": "150a4cf1-5403-4f6f-8b33-a67c82aee042",
   "metadata": {
    "scrolled": true
   },
   "outputs": [
    {
     "data": {
      "text/plain": [
       "Index(['id', 'listing_url', 'scrape_id', 'last_scraped', 'source', 'name',\n",
       "       'description', 'neighborhood_overview', 'picture_url', 'host_id',\n",
       "       'host_url', 'host_name', 'host_since', 'host_location', 'host_about',\n",
       "       'host_response_time', 'host_response_rate', 'host_acceptance_rate',\n",
       "       'host_is_superhost', 'host_thumbnail_url', 'host_picture_url',\n",
       "       'host_neighbourhood', 'host_listings_count',\n",
       "       'host_total_listings_count', 'host_verifications',\n",
       "       'host_has_profile_pic', 'host_identity_verified', 'neighbourhood',\n",
       "       'neighbourhood_cleansed', 'neighbourhood_group_cleansed', 'latitude',\n",
       "       'longitude', 'property_type', 'room_type', 'accommodates', 'bathrooms',\n",
       "       'bathrooms_text', 'bedrooms', 'beds', 'amenities', 'price',\n",
       "       'minimum_nights', 'maximum_nights', 'minimum_minimum_nights',\n",
       "       'maximum_minimum_nights', 'minimum_maximum_nights',\n",
       "       'maximum_maximum_nights', 'minimum_nights_avg_ntm',\n",
       "       'maximum_nights_avg_ntm', 'calendar_updated', 'has_availability',\n",
       "       'availability_30', 'availability_60', 'availability_90',\n",
       "       'availability_365', 'calendar_last_scraped', 'number_of_reviews',\n",
       "       'number_of_reviews_ltm', 'number_of_reviews_l30d', 'availability_eoy',\n",
       "       'number_of_reviews_ly', 'estimated_occupancy_l365d',\n",
       "       'estimated_revenue_l365d', 'first_review', 'last_review',\n",
       "       'review_scores_rating', 'review_scores_accuracy',\n",
       "       'review_scores_cleanliness', 'review_scores_checkin',\n",
       "       'review_scores_communication', 'review_scores_location',\n",
       "       'review_scores_value', 'license', 'instant_bookable',\n",
       "       'calculated_host_listings_count',\n",
       "       'calculated_host_listings_count_entire_homes',\n",
       "       'calculated_host_listings_count_private_rooms',\n",
       "       'calculated_host_listings_count_shared_rooms', 'reviews_per_month'],\n",
       "      dtype='object')"
      ]
     },
     "execution_count": 5,
     "metadata": {},
     "output_type": "execute_result"
    }
   ],
   "source": [
    "df_listings.columns"
   ]
  },
  {
   "cell_type": "code",
   "execution_count": 6,
   "id": "5953446b-c725-46a4-b1db-37f04294fd05",
   "metadata": {},
   "outputs": [],
   "source": [
    "import warnings\n",
    "warnings.filterwarnings(\"ignore\")"
   ]
  },
  {
   "cell_type": "code",
   "execution_count": 7,
   "id": "cc00521e-a453-4bb7-b706-7ae0e9a45702",
   "metadata": {},
   "outputs": [],
   "source": [
    "df_listings['price'] = df_listings['price'].astype(str).str.replace('[\\$,]', '', regex=True)"
   ]
  },
  {
   "cell_type": "code",
   "execution_count": 8,
   "id": "59e35f61-97ef-4485-b4a9-5ed72d1a0880",
   "metadata": {},
   "outputs": [],
   "source": [
    "import pandas as pd\n",
    "df_listings['price'] = pd.to_numeric(df_listings['price'], errors='coerce')"
   ]
  },
  {
   "cell_type": "code",
   "execution_count": 9,
   "id": "95804f26-0bb3-4abb-a0fc-76c2e1f3d74b",
   "metadata": {},
   "outputs": [],
   "source": [
    "def integrate_calendar_prices(df_listings, df_calendar_cleaned):\n",
    "    \"\"\"\n",
    "    Fill missing listing prices with calendar median prices\n",
    "    \"\"\"\n",
    "    print(f\"Listings before: {len(df_listings)} ({df_listings['price'].notna().sum()} with prices)\")\n",
    "    \n",
    "    # Get median price per listing from calendar\n",
    "    calendar_prices = (df_calendar_cleaned\n",
    "                      .groupby('listing_id')['price']\n",
    "                      .median()\n",
    "                      .reset_index()\n",
    "                      .rename(columns={'price': 'calendar_price'}))\n",
    "    \n",
    "    # Merge and fill missing prices\n",
    "    df_merged = df_listings.merge(calendar_prices, left_on='id', right_on='listing_id', how='left')\n",
    "    df_merged['price'] = df_merged['price'].fillna(df_merged['calendar_price'])\n",
    "    \n",
    "    # Clean and filter\n",
    "    df_final = df_merged.dropna(subset=['price'])\n",
    "    df_final = df_final[(df_final['price'] > 0) & (df_final['price'] <= 10000)]\n",
    "    \n",
    "    print(f\"Listings after: {len(df_final)} (recovered {len(df_final) - df_listings['price'].notna().sum()})\")\n",
    "    print(f\"Price range: ${df_final['price'].min():.0f} - ${df_final['price'].max():.0f}\")\n",
    "    \n",
    "    return df_final.drop(columns=['listing_id', 'calendar_price'])"
   ]
  },
  {
   "cell_type": "code",
   "execution_count": 10,
   "id": "89b71eb1-d508-46f9-ba1d-dbe53e5a6da1",
   "metadata": {},
   "outputs": [
    {
     "name": "stdout",
     "output_type": "stream",
     "text": [
      "Listings before: 13945 (8898 with prices)\n",
      "Listings after: 13934 (recovered 5036)\n",
      "Price range: $8 - $10000\n"
     ]
    }
   ],
   "source": [
    "df_listings = integrate_calendar_prices(df_listings, df_calendar_cleaned)"
   ]
  },
  {
   "cell_type": "code",
   "execution_count": 11,
   "id": "eee8d6e9-25e6-457d-8d69-f3d2a2b6b1d1",
   "metadata": {},
   "outputs": [
    {
     "name": "stdout",
     "output_type": "stream",
     "text": [
      "<class 'pandas.core.frame.DataFrame'>\n",
      "Index: 13934 entries, 0 to 13944\n",
      "Data columns (total 79 columns):\n",
      " #   Column                                        Non-Null Count  Dtype  \n",
      "---  ------                                        --------------  -----  \n",
      " 0   id                                            13934 non-null  int64  \n",
      " 1   listing_url                                   13934 non-null  object \n",
      " 2   scrape_id                                     13934 non-null  int64  \n",
      " 3   last_scraped                                  13934 non-null  object \n",
      " 4   source                                        13934 non-null  object \n",
      " 5   name                                          13934 non-null  object \n",
      " 6   description                                   13340 non-null  object \n",
      " 7   neighborhood_overview                         6610 non-null   object \n",
      " 8   picture_url                                   13934 non-null  object \n",
      " 9   host_id                                       13934 non-null  int64  \n",
      " 10  host_url                                      13934 non-null  object \n",
      " 11  host_name                                     13906 non-null  object \n",
      " 12  host_since                                    13906 non-null  object \n",
      " 13  host_location                                 11241 non-null  object \n",
      " 14  host_about                                    7231 non-null   object \n",
      " 15  host_response_time                            8802 non-null   object \n",
      " 16  host_response_rate                            8802 non-null   object \n",
      " 17  host_acceptance_rate                          9559 non-null   object \n",
      " 18  host_is_superhost                             13792 non-null  object \n",
      " 19  host_thumbnail_url                            13906 non-null  object \n",
      " 20  host_picture_url                              13906 non-null  object \n",
      " 21  host_neighbourhood                            5965 non-null   object \n",
      " 22  host_listings_count                           13906 non-null  float64\n",
      " 23  host_total_listings_count                     13906 non-null  float64\n",
      " 24  host_verifications                            13906 non-null  object \n",
      " 25  host_has_profile_pic                          13906 non-null  object \n",
      " 26  host_identity_verified                        13906 non-null  object \n",
      " 27  neighbourhood                                 6610 non-null   object \n",
      " 28  neighbourhood_cleansed                        13934 non-null  object \n",
      " 29  neighbourhood_group_cleansed                  13934 non-null  object \n",
      " 30  latitude                                      13934 non-null  float64\n",
      " 31  longitude                                     13934 non-null  float64\n",
      " 32  property_type                                 13934 non-null  object \n",
      " 33  room_type                                     13934 non-null  object \n",
      " 34  accommodates                                  13934 non-null  int64  \n",
      " 35  bathrooms                                     8916 non-null   float64\n",
      " 36  bathrooms_text                                13926 non-null  object \n",
      " 37  bedrooms                                      11864 non-null  float64\n",
      " 38  beds                                          8888 non-null   float64\n",
      " 39  amenities                                     13934 non-null  object \n",
      " 40  price                                         13934 non-null  float64\n",
      " 41  minimum_nights                                13934 non-null  int64  \n",
      " 42  maximum_nights                                13934 non-null  int64  \n",
      " 43  minimum_minimum_nights                        13934 non-null  float64\n",
      " 44  maximum_minimum_nights                        13934 non-null  float64\n",
      " 45  minimum_maximum_nights                        13934 non-null  float64\n",
      " 46  maximum_maximum_nights                        13934 non-null  float64\n",
      " 47  minimum_nights_avg_ntm                        13934 non-null  float64\n",
      " 48  maximum_nights_avg_ntm                        13934 non-null  float64\n",
      " 49  calendar_updated                              0 non-null      float64\n",
      " 50  has_availability                              12992 non-null  object \n",
      " 51  availability_30                               13934 non-null  int64  \n",
      " 52  availability_60                               13934 non-null  int64  \n",
      " 53  availability_90                               13934 non-null  int64  \n",
      " 54  availability_365                              13934 non-null  int64  \n",
      " 55  calendar_last_scraped                         13934 non-null  object \n",
      " 56  number_of_reviews                             13934 non-null  int64  \n",
      " 57  number_of_reviews_ltm                         13934 non-null  int64  \n",
      " 58  number_of_reviews_l30d                        13934 non-null  int64  \n",
      " 59  availability_eoy                              13934 non-null  int64  \n",
      " 60  number_of_reviews_ly                          13934 non-null  int64  \n",
      " 61  estimated_occupancy_l365d                     13934 non-null  int64  \n",
      " 62  estimated_revenue_l365d                       8897 non-null   float64\n",
      " 63  first_review                                  10623 non-null  object \n",
      " 64  last_review                                   10623 non-null  object \n",
      " 65  review_scores_rating                          10623 non-null  float64\n",
      " 66  review_scores_accuracy                        10621 non-null  float64\n",
      " 67  review_scores_cleanliness                     10623 non-null  float64\n",
      " 68  review_scores_checkin                         10620 non-null  float64\n",
      " 69  review_scores_communication                   10622 non-null  float64\n",
      " 70  review_scores_location                        10620 non-null  float64\n",
      " 71  review_scores_value                           10618 non-null  float64\n",
      " 72  license                                       8909 non-null   object \n",
      " 73  instant_bookable                              13934 non-null  object \n",
      " 74  calculated_host_listings_count                13934 non-null  int64  \n",
      " 75  calculated_host_listings_count_entire_homes   13934 non-null  int64  \n",
      " 76  calculated_host_listings_count_private_rooms  13934 non-null  int64  \n",
      " 77  calculated_host_listings_count_shared_rooms   13934 non-null  int64  \n",
      " 78  reviews_per_month                             10623 non-null  float64\n",
      "dtypes: float64(24), int64(20), object(35)\n",
      "memory usage: 8.5+ MB\n"
     ]
    }
   ],
   "source": [
    "df_listings.info()"
   ]
  },
  {
   "cell_type": "code",
   "execution_count": 12,
   "id": "8b82ccb5-9992-4460-b455-41fecb4c93ff",
   "metadata": {},
   "outputs": [],
   "source": [
    "listings = df_listings.copy()"
   ]
  },
  {
   "cell_type": "code",
   "execution_count": 13,
   "id": "9938c313-168c-4ac2-8c76-ddf05708ea4e",
   "metadata": {},
   "outputs": [],
   "source": [
    "bool_cols = [\n",
    "    \"host_is_superhost\", \"instant_bookable\", \"has_availability\",\n",
    "    \"host_has_profile_pic\", \"host_identity_verified\"\n",
    "]\n",
    "for col in bool_cols:\n",
    "    listings[col] = (\n",
    "        listings[col]\n",
    "        .map({\"t\": True, \"f\": False})          \n",
    "        .fillna(False)                      \n",
    "        .astype(\"bool\")\n",
    "    )"
   ]
  },
  {
   "cell_type": "code",
   "execution_count": 14,
   "id": "d3416863-94d3-49c6-9567-9a756e4849fe",
   "metadata": {},
   "outputs": [],
   "source": [
    "date_cols = [\"host_since\", \"first_review\", \"last_review\"]\n",
    "listings[date_cols] = listings[date_cols].apply(\n",
    "    pd.to_datetime, errors=\"coerce\"\n",
    ")"
   ]
  },
  {
   "cell_type": "code",
   "execution_count": 15,
   "id": "2d09c498-9cae-46b0-afca-f4accaf8110a",
   "metadata": {},
   "outputs": [],
   "source": [
    "num_cols = [\n",
    "    \"accommodates\", \"bedrooms\", \"beds\", \"bathrooms\",\n",
    "    \"minimum_nights\", \"maximum_nights\",\n",
    "    \"availability_30\",\"availability_60\",\"availability_90\", \"availability_365\",\n",
    "    \"number_of_reviews\", \"review_scores_rating\"\n",
    "]\n",
    "listings[num_cols] = (\n",
    "    listings[num_cols]\n",
    "      .apply(pd.to_numeric, errors=\"coerce\")\n",
    ")"
   ]
  },
  {
   "cell_type": "code",
   "execution_count": 16,
   "id": "b6bf6b99-d660-4186-9a27-c360ee5be9b7",
   "metadata": {},
   "outputs": [],
   "source": [
    "clip_vals = listings[num_cols].quantile(0.99)\n",
    "listings[num_cols] = listings[num_cols].clip(upper=clip_vals,axis=1)"
   ]
  },
  {
   "cell_type": "code",
   "execution_count": 17,
   "id": "c02f33ec-dc24-49f1-a164-b7b5a22eca34",
   "metadata": {},
   "outputs": [
    {
     "name": "stdout",
     "output_type": "stream",
     "text": [
      "✅ Listings clean: no NaNs, outliers capped → (13934, 79)\n"
     ]
    }
   ],
   "source": [
    "for c in [\"instant_bookable\", \"has_availability\",\n",
    "          \"host_has_profile_pic\", \"host_identity_verified\"]:\n",
    "    listings[c] = listings[c].map({'t': True, 'f': False}).fillna(False)\n",
    "\n",
    "# host_acceptance_rate  \"%→float0-1\"  +  median fill\n",
    "lst = listings\n",
    "lst['host_acceptance_rate'] = (\n",
    "    lst['host_acceptance_rate'].str.rstrip('%').astype(float).div(100)\n",
    ")\n",
    "lst['host_acceptance_rate'].fillna(lst['host_acceptance_rate'].median(), inplace=True)\n",
    "\n",
    "#universal median/mode impute (anything still NaN)\n",
    "num = lst.select_dtypes('number').columns\n",
    "obj = lst.select_dtypes('object').columns.difference(['amenities'])\n",
    "lst[num] = lst[num].fillna(lst[num].median())\n",
    "lst[obj] = lst[obj].fillna('Unknown')\n",
    "\n",
    "# 99-th percentile cap for every numeric col (price already safe, this extends to others)\n",
    "caps = lst[num].quantile(0.99)\n",
    "lst[num] = lst[num].clip(upper=caps, axis=1)\n",
    "\n",
    "print(\"✅ Listings clean: no NaNs, outliers capped →\", lst.shape)"
   ]
  },
  {
   "cell_type": "code",
   "execution_count": 18,
   "id": "05248846-b07e-4195-988b-0be72340e7c2",
   "metadata": {},
   "outputs": [
    {
     "name": "stdout",
     "output_type": "stream",
     "text": [
      "<class 'pandas.core.frame.DataFrame'>\n",
      "Index: 13934 entries, 0 to 13944\n",
      "Data columns (total 79 columns):\n",
      " #   Column                                        Non-Null Count  Dtype         \n",
      "---  ------                                        --------------  -----         \n",
      " 0   id                                            13934 non-null  int64         \n",
      " 1   listing_url                                   13934 non-null  object        \n",
      " 2   scrape_id                                     13934 non-null  int64         \n",
      " 3   last_scraped                                  13934 non-null  object        \n",
      " 4   source                                        13934 non-null  object        \n",
      " 5   name                                          13934 non-null  object        \n",
      " 6   description                                   13934 non-null  object        \n",
      " 7   neighborhood_overview                         13934 non-null  object        \n",
      " 8   picture_url                                   13934 non-null  object        \n",
      " 9   host_id                                       13934 non-null  float64       \n",
      " 10  host_url                                      13934 non-null  object        \n",
      " 11  host_name                                     13934 non-null  object        \n",
      " 12  host_since                                    13906 non-null  datetime64[ns]\n",
      " 13  host_location                                 13934 non-null  object        \n",
      " 14  host_about                                    13934 non-null  object        \n",
      " 15  host_response_time                            13934 non-null  object        \n",
      " 16  host_response_rate                            13934 non-null  object        \n",
      " 17  host_acceptance_rate                          13934 non-null  float64       \n",
      " 18  host_is_superhost                             13934 non-null  bool          \n",
      " 19  host_thumbnail_url                            13934 non-null  object        \n",
      " 20  host_picture_url                              13934 non-null  object        \n",
      " 21  host_neighbourhood                            13934 non-null  object        \n",
      " 22  host_listings_count                           13934 non-null  float64       \n",
      " 23  host_total_listings_count                     13934 non-null  float64       \n",
      " 24  host_verifications                            13934 non-null  object        \n",
      " 25  host_has_profile_pic                          13934 non-null  bool          \n",
      " 26  host_identity_verified                        13934 non-null  bool          \n",
      " 27  neighbourhood                                 13934 non-null  object        \n",
      " 28  neighbourhood_cleansed                        13934 non-null  object        \n",
      " 29  neighbourhood_group_cleansed                  13934 non-null  object        \n",
      " 30  latitude                                      13934 non-null  float64       \n",
      " 31  longitude                                     13934 non-null  float64       \n",
      " 32  property_type                                 13934 non-null  object        \n",
      " 33  room_type                                     13934 non-null  object        \n",
      " 34  accommodates                                  13934 non-null  int64         \n",
      " 35  bathrooms                                     13934 non-null  float64       \n",
      " 36  bathrooms_text                                13934 non-null  object        \n",
      " 37  bedrooms                                      13934 non-null  float64       \n",
      " 38  beds                                          13934 non-null  float64       \n",
      " 39  amenities                                     13934 non-null  object        \n",
      " 40  price                                         13934 non-null  float64       \n",
      " 41  minimum_nights                                13934 non-null  int64         \n",
      " 42  maximum_nights                                13934 non-null  int64         \n",
      " 43  minimum_minimum_nights                        13934 non-null  float64       \n",
      " 44  maximum_minimum_nights                        13934 non-null  float64       \n",
      " 45  minimum_maximum_nights                        13934 non-null  float64       \n",
      " 46  maximum_maximum_nights                        13934 non-null  float64       \n",
      " 47  minimum_nights_avg_ntm                        13934 non-null  float64       \n",
      " 48  maximum_nights_avg_ntm                        13934 non-null  float64       \n",
      " 49  calendar_updated                              0 non-null      float64       \n",
      " 50  has_availability                              13934 non-null  bool          \n",
      " 51  availability_30                               13934 non-null  int64         \n",
      " 52  availability_60                               13934 non-null  int64         \n",
      " 53  availability_90                               13934 non-null  int64         \n",
      " 54  availability_365                              13934 non-null  int64         \n",
      " 55  calendar_last_scraped                         13934 non-null  object        \n",
      " 56  number_of_reviews                             13934 non-null  float64       \n",
      " 57  number_of_reviews_ltm                         13934 non-null  int64         \n",
      " 58  number_of_reviews_l30d                        13934 non-null  int64         \n",
      " 59  availability_eoy                              13934 non-null  int64         \n",
      " 60  number_of_reviews_ly                          13934 non-null  int64         \n",
      " 61  estimated_occupancy_l365d                     13934 non-null  int64         \n",
      " 62  estimated_revenue_l365d                       13934 non-null  float64       \n",
      " 63  first_review                                  10623 non-null  datetime64[ns]\n",
      " 64  last_review                                   10623 non-null  datetime64[ns]\n",
      " 65  review_scores_rating                          13934 non-null  float64       \n",
      " 66  review_scores_accuracy                        13934 non-null  float64       \n",
      " 67  review_scores_cleanliness                     13934 non-null  float64       \n",
      " 68  review_scores_checkin                         13934 non-null  float64       \n",
      " 69  review_scores_communication                   13934 non-null  float64       \n",
      " 70  review_scores_location                        13934 non-null  float64       \n",
      " 71  review_scores_value                           13934 non-null  float64       \n",
      " 72  license                                       13934 non-null  object        \n",
      " 73  instant_bookable                              13934 non-null  bool          \n",
      " 74  calculated_host_listings_count                13934 non-null  int64         \n",
      " 75  calculated_host_listings_count_entire_homes   13934 non-null  int64         \n",
      " 76  calculated_host_listings_count_private_rooms  13934 non-null  int64         \n",
      " 77  calculated_host_listings_count_shared_rooms   13934 non-null  int64         \n",
      " 78  reviews_per_month                             13934 non-null  float64       \n",
      "dtypes: bool(5), datetime64[ns](3), float64(27), int64(18), object(26)\n",
      "memory usage: 8.0+ MB\n"
     ]
    }
   ],
   "source": [
    "lst.info()"
   ]
  },
  {
   "cell_type": "code",
   "execution_count": 21,
   "id": "1d909f8b-dfd5-4aa9-9c09-9d5337eb47ed",
   "metadata": {},
   "outputs": [
    {
     "name": "stdout",
     "output_type": "stream",
     "text": [
      "Stored 'lst' (DataFrame)\n"
     ]
    }
   ],
   "source": [
    "%store lst"
   ]
  },
  {
   "cell_type": "code",
   "execution_count": null,
   "id": "1a4bd7bc-c86c-4745-ab42-9dc8f0c4319d",
   "metadata": {},
   "outputs": [],
   "source": []
  },
  {
   "cell_type": "code",
   "execution_count": null,
   "id": "f75bac67-ac62-4adc-bb72-7ab913473123",
   "metadata": {},
   "outputs": [],
   "source": []
  },
  {
   "cell_type": "code",
   "execution_count": null,
   "id": "c2682b30-4ce7-4b36-a0cd-7bdd8e1b93b1",
   "metadata": {},
   "outputs": [],
   "source": []
  },
  {
   "cell_type": "code",
   "execution_count": null,
   "id": "7058f81c-3a80-4c92-9636-c44533a0427e",
   "metadata": {},
   "outputs": [],
   "source": [
    "#host_since, first_review, andb last_review for feature engineering"
   ]
  },
  {
   "cell_type": "code",
   "execution_count": 20,
   "id": "b6469f9c-74de-4f00-b822-4768b9c8f0ab",
   "metadata": {},
   "outputs": [],
   "source": [
    "#host_since, first_review, and last_review for feature engineering "
   ]
  },
  {
   "cell_type": "code",
   "execution_count": null,
   "id": "bdff99a6-0caa-4477-9e78-30f7b8a7d9d4",
   "metadata": {},
   "outputs": [],
   "source": []
  }
 ],
 "metadata": {
  "kernelspec": {
   "display_name": "Python 3 (ipykernel)",
   "language": "python",
   "name": "python3"
  },
  "language_info": {
   "codemirror_mode": {
    "name": "ipython",
    "version": 3
   },
   "file_extension": ".py",
   "mimetype": "text/x-python",
   "name": "python",
   "nbconvert_exporter": "python",
   "pygments_lexer": "ipython3",
   "version": "3.11.9"
  }
 },
 "nbformat": 4,
 "nbformat_minor": 5
}
