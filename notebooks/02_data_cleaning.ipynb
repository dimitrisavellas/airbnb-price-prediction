{
 "cells": [
  {
   "cell_type": "code",
   "execution_count": 1,
   "metadata": {},
   "outputs": [],
   "source": [
    "%store -r df_neigh_list gdf_neigh_geo"
   ]
  },
  {
   "cell_type": "code",
   "execution_count": 2,
   "metadata": {},
   "outputs": [
    {
     "data": {
      "text/html": [
       "<div>\n",
       "<style scoped>\n",
       "    .dataframe tbody tr th:only-of-type {\n",
       "        vertical-align: middle;\n",
       "    }\n",
       "\n",
       "    .dataframe tbody tr th {\n",
       "        vertical-align: top;\n",
       "    }\n",
       "\n",
       "    .dataframe thead th {\n",
       "        text-align: right;\n",
       "    }\n",
       "</style>\n",
       "<table border=\"1\" class=\"dataframe\">\n",
       "  <thead>\n",
       "    <tr style=\"text-align: right;\">\n",
       "      <th></th>\n",
       "      <th>neighbourhood_group</th>\n",
       "      <th>neighbourhood</th>\n",
       "    </tr>\n",
       "  </thead>\n",
       "  <tbody>\n",
       "    <tr>\n",
       "      <th>0</th>\n",
       "      <td>Charlottenburg-Wilm.</td>\n",
       "      <td>Barstraße</td>\n",
       "    </tr>\n",
       "    <tr>\n",
       "      <th>1</th>\n",
       "      <td>Charlottenburg-Wilm.</td>\n",
       "      <td>Charlottenburg Nord</td>\n",
       "    </tr>\n",
       "    <tr>\n",
       "      <th>2</th>\n",
       "      <td>Charlottenburg-Wilm.</td>\n",
       "      <td>Düsseldorfer Straße</td>\n",
       "    </tr>\n",
       "    <tr>\n",
       "      <th>3</th>\n",
       "      <td>Charlottenburg-Wilm.</td>\n",
       "      <td>Forst Grunewald</td>\n",
       "    </tr>\n",
       "    <tr>\n",
       "      <th>4</th>\n",
       "      <td>Charlottenburg-Wilm.</td>\n",
       "      <td>Grunewald</td>\n",
       "    </tr>\n",
       "    <tr>\n",
       "      <th>...</th>\n",
       "      <td>...</td>\n",
       "      <td>...</td>\n",
       "    </tr>\n",
       "    <tr>\n",
       "      <th>134</th>\n",
       "      <td>Treptow - Köpenick</td>\n",
       "      <td>Oberschöneweide</td>\n",
       "    </tr>\n",
       "    <tr>\n",
       "      <th>135</th>\n",
       "      <td>Treptow - Köpenick</td>\n",
       "      <td>Plänterwald</td>\n",
       "    </tr>\n",
       "    <tr>\n",
       "      <th>136</th>\n",
       "      <td>Treptow - Köpenick</td>\n",
       "      <td>Rahnsdorf/Hessenwinkel</td>\n",
       "    </tr>\n",
       "    <tr>\n",
       "      <th>137</th>\n",
       "      <td>Treptow - Köpenick</td>\n",
       "      <td>Schmöckwitz/Karolinenhof/Rauchfangswerder</td>\n",
       "    </tr>\n",
       "    <tr>\n",
       "      <th>138</th>\n",
       "      <td>NaN</td>\n",
       "      <td>NaN</td>\n",
       "    </tr>\n",
       "  </tbody>\n",
       "</table>\n",
       "<p>139 rows × 2 columns</p>\n",
       "</div>"
      ],
      "text/plain": [
       "      neighbourhood_group                              neighbourhood\n",
       "0    Charlottenburg-Wilm.                                  Barstraße\n",
       "1    Charlottenburg-Wilm.                        Charlottenburg Nord\n",
       "2    Charlottenburg-Wilm.                        Düsseldorfer Straße\n",
       "3    Charlottenburg-Wilm.                            Forst Grunewald\n",
       "4    Charlottenburg-Wilm.                                  Grunewald\n",
       "..                    ...                                        ...\n",
       "134    Treptow - Köpenick                            Oberschöneweide\n",
       "135    Treptow - Köpenick                                Plänterwald\n",
       "136    Treptow - Köpenick                     Rahnsdorf/Hessenwinkel\n",
       "137    Treptow - Köpenick  Schmöckwitz/Karolinenhof/Rauchfangswerder\n",
       "138                   NaN                                        NaN\n",
       "\n",
       "[139 rows x 2 columns]"
      ]
     },
     "execution_count": 2,
     "metadata": {},
     "output_type": "execute_result"
    }
   ],
   "source": [
    "df_neigh_list"
   ]
  },
  {
   "cell_type": "code",
   "execution_count": 3,
   "metadata": {},
   "outputs": [
    {
     "data": {
      "text/html": [
       "<div>\n",
       "<style scoped>\n",
       "    .dataframe tbody tr th:only-of-type {\n",
       "        vertical-align: middle;\n",
       "    }\n",
       "\n",
       "    .dataframe tbody tr th {\n",
       "        vertical-align: top;\n",
       "    }\n",
       "\n",
       "    .dataframe thead th {\n",
       "        text-align: right;\n",
       "    }\n",
       "</style>\n",
       "<table border=\"1\" class=\"dataframe\">\n",
       "  <thead>\n",
       "    <tr style=\"text-align: right;\">\n",
       "      <th></th>\n",
       "      <th>neighbourhood</th>\n",
       "      <th>neighbourhood_group</th>\n",
       "      <th>geometry</th>\n",
       "    </tr>\n",
       "  </thead>\n",
       "  <tbody>\n",
       "    <tr>\n",
       "      <th>0</th>\n",
       "      <td>Blankenfelde/Niederschönhausen</td>\n",
       "      <td>Pankow</td>\n",
       "      <td>MULTIPOLYGON (((13.41191 52.61487, 13.41183 52...</td>\n",
       "    </tr>\n",
       "    <tr>\n",
       "      <th>1</th>\n",
       "      <td>Helmholtzplatz</td>\n",
       "      <td>Pankow</td>\n",
       "      <td>MULTIPOLYGON (((13.41405 52.54929, 13.41422 52...</td>\n",
       "    </tr>\n",
       "    <tr>\n",
       "      <th>2</th>\n",
       "      <td>Wiesbadener Straße</td>\n",
       "      <td>Charlottenburg-Wilm.</td>\n",
       "      <td>MULTIPOLYGON (((13.30748 52.46788, 13.30743 52...</td>\n",
       "    </tr>\n",
       "    <tr>\n",
       "      <th>3</th>\n",
       "      <td>Schmöckwitz/Karolinenhof/Rauchfangswerder</td>\n",
       "      <td>Treptow - Köpenick</td>\n",
       "      <td>MULTIPOLYGON (((13.70973 52.3963, 13.70926 52....</td>\n",
       "    </tr>\n",
       "    <tr>\n",
       "      <th>4</th>\n",
       "      <td>Müggelheim</td>\n",
       "      <td>Treptow - Köpenick</td>\n",
       "      <td>MULTIPOLYGON (((13.73762 52.4085, 13.73773 52....</td>\n",
       "    </tr>\n",
       "    <tr>\n",
       "      <th>...</th>\n",
       "      <td>...</td>\n",
       "      <td>...</td>\n",
       "      <td>...</td>\n",
       "    </tr>\n",
       "    <tr>\n",
       "      <th>135</th>\n",
       "      <td>Hellersdorf-Ost</td>\n",
       "      <td>Marzahn - Hellersdorf</td>\n",
       "      <td>MULTIPOLYGON (((13.62135 52.52704, 13.62079 52...</td>\n",
       "    </tr>\n",
       "    <tr>\n",
       "      <th>136</th>\n",
       "      <td>Mahlsdorf</td>\n",
       "      <td>Marzahn - Hellersdorf</td>\n",
       "      <td>MULTIPOLYGON (((13.65554 52.52982, 13.65693 52...</td>\n",
       "    </tr>\n",
       "    <tr>\n",
       "      <th>137</th>\n",
       "      <td>Ost 1</td>\n",
       "      <td>Reinickendorf</td>\n",
       "      <td>MULTIPOLYGON (((13.36666 52.55823, 13.36561 52...</td>\n",
       "    </tr>\n",
       "    <tr>\n",
       "      <th>138</th>\n",
       "      <td>Ost 2</td>\n",
       "      <td>Reinickendorf</td>\n",
       "      <td>MULTIPOLYGON (((13.36418 52.56298, 13.36423 52...</td>\n",
       "    </tr>\n",
       "    <tr>\n",
       "      <th>139</th>\n",
       "      <td>MV 2</td>\n",
       "      <td>Reinickendorf</td>\n",
       "      <td>MULTIPOLYGON (((13.34846 52.60664, 13.34911 52...</td>\n",
       "    </tr>\n",
       "  </tbody>\n",
       "</table>\n",
       "<p>140 rows × 3 columns</p>\n",
       "</div>"
      ],
      "text/plain": [
       "                                 neighbourhood    neighbourhood_group  \\\n",
       "0               Blankenfelde/Niederschönhausen                 Pankow   \n",
       "1                               Helmholtzplatz                 Pankow   \n",
       "2                           Wiesbadener Straße   Charlottenburg-Wilm.   \n",
       "3    Schmöckwitz/Karolinenhof/Rauchfangswerder     Treptow - Köpenick   \n",
       "4                                   Müggelheim     Treptow - Köpenick   \n",
       "..                                         ...                    ...   \n",
       "135                            Hellersdorf-Ost  Marzahn - Hellersdorf   \n",
       "136                                  Mahlsdorf  Marzahn - Hellersdorf   \n",
       "137                                      Ost 1          Reinickendorf   \n",
       "138                                      Ost 2          Reinickendorf   \n",
       "139                                       MV 2          Reinickendorf   \n",
       "\n",
       "                                              geometry  \n",
       "0    MULTIPOLYGON (((13.41191 52.61487, 13.41183 52...  \n",
       "1    MULTIPOLYGON (((13.41405 52.54929, 13.41422 52...  \n",
       "2    MULTIPOLYGON (((13.30748 52.46788, 13.30743 52...  \n",
       "3    MULTIPOLYGON (((13.70973 52.3963, 13.70926 52....  \n",
       "4    MULTIPOLYGON (((13.73762 52.4085, 13.73773 52....  \n",
       "..                                                 ...  \n",
       "135  MULTIPOLYGON (((13.62135 52.52704, 13.62079 52...  \n",
       "136  MULTIPOLYGON (((13.65554 52.52982, 13.65693 52...  \n",
       "137  MULTIPOLYGON (((13.36666 52.55823, 13.36561 52...  \n",
       "138  MULTIPOLYGON (((13.36418 52.56298, 13.36423 52...  \n",
       "139  MULTIPOLYGON (((13.34846 52.60664, 13.34911 52...  \n",
       "\n",
       "[140 rows x 3 columns]"
      ]
     },
     "execution_count": 3,
     "metadata": {},
     "output_type": "execute_result"
    }
   ],
   "source": [
    "gdf_neigh_geo"
   ]
  },
  {
   "cell_type": "code",
   "execution_count": 4,
   "metadata": {},
   "outputs": [
    {
     "name": "stdout",
     "output_type": "stream",
     "text": [
      "df_neigh_list missing counts:\n",
      "neighbourhood_group    1\n",
      "neighbourhood          1\n",
      "dtype: int64\n"
     ]
    }
   ],
   "source": [
    "print(\"df_neigh_list missing counts:\")\n",
    "print(df_neigh_list.isna().sum())"
   ]
  },
  {
   "cell_type": "code",
   "execution_count": 5,
   "metadata": {},
   "outputs": [
    {
     "name": "stdout",
     "output_type": "stream",
     "text": [
      "\n",
      "gdf_neigh_geo missing counts:\n",
      "neighbourhood          2\n",
      "neighbourhood_group    2\n",
      "geometry               0\n",
      "dtype: int64\n"
     ]
    }
   ],
   "source": [
    "print(\"\\ngdf_neigh_geo missing counts:\")\n",
    "print(gdf_neigh_geo.isna().sum())"
   ]
  },
  {
   "cell_type": "code",
   "execution_count": 6,
   "metadata": {},
   "outputs": [
    {
     "name": "stdout",
     "output_type": "stream",
     "text": [
      "\n",
      "df_neigh_list – rows with missing values:\n"
     ]
    },
    {
     "data": {
      "text/html": [
       "<div>\n",
       "<style scoped>\n",
       "    .dataframe tbody tr th:only-of-type {\n",
       "        vertical-align: middle;\n",
       "    }\n",
       "\n",
       "    .dataframe tbody tr th {\n",
       "        vertical-align: top;\n",
       "    }\n",
       "\n",
       "    .dataframe thead th {\n",
       "        text-align: right;\n",
       "    }\n",
       "</style>\n",
       "<table border=\"1\" class=\"dataframe\">\n",
       "  <thead>\n",
       "    <tr style=\"text-align: right;\">\n",
       "      <th></th>\n",
       "      <th>neighbourhood_group</th>\n",
       "      <th>neighbourhood</th>\n",
       "    </tr>\n",
       "  </thead>\n",
       "  <tbody>\n",
       "    <tr>\n",
       "      <th>138</th>\n",
       "      <td>NaN</td>\n",
       "      <td>NaN</td>\n",
       "    </tr>\n",
       "  </tbody>\n",
       "</table>\n",
       "</div>"
      ],
      "text/plain": [
       "    neighbourhood_group neighbourhood\n",
       "138                 NaN           NaN"
      ]
     },
     "metadata": {},
     "output_type": "display_data"
    }
   ],
   "source": [
    "print(\"\\ndf_neigh_list – rows with missing values:\")\n",
    "display(df_neigh_list[df_neigh_list[['neighbourhood_group','neighbourhood']].isna().any(axis=1)])"
   ]
  },
  {
   "cell_type": "code",
   "execution_count": 7,
   "metadata": {},
   "outputs": [
    {
     "name": "stdout",
     "output_type": "stream",
     "text": [
      "\n",
      "gdf_neigh_geo – rows with missing values:\n"
     ]
    },
    {
     "data": {
      "text/html": [
       "<div>\n",
       "<style scoped>\n",
       "    .dataframe tbody tr th:only-of-type {\n",
       "        vertical-align: middle;\n",
       "    }\n",
       "\n",
       "    .dataframe tbody tr th {\n",
       "        vertical-align: top;\n",
       "    }\n",
       "\n",
       "    .dataframe thead th {\n",
       "        text-align: right;\n",
       "    }\n",
       "</style>\n",
       "<table border=\"1\" class=\"dataframe\">\n",
       "  <thead>\n",
       "    <tr style=\"text-align: right;\">\n",
       "      <th></th>\n",
       "      <th>neighbourhood</th>\n",
       "      <th>neighbourhood_group</th>\n",
       "      <th>geometry</th>\n",
       "    </tr>\n",
       "  </thead>\n",
       "  <tbody>\n",
       "    <tr>\n",
       "      <th>11</th>\n",
       "      <td>None</td>\n",
       "      <td>None</td>\n",
       "      <td>MULTIPOLYGON (((13.61659 52.58154, 13.61458 52...</td>\n",
       "    </tr>\n",
       "    <tr>\n",
       "      <th>12</th>\n",
       "      <td>None</td>\n",
       "      <td>None</td>\n",
       "      <td>MULTIPOLYGON (((13.61668 52.57868, 13.60703 52...</td>\n",
       "    </tr>\n",
       "  </tbody>\n",
       "</table>\n",
       "</div>"
      ],
      "text/plain": [
       "   neighbourhood neighbourhood_group  \\\n",
       "11          None                None   \n",
       "12          None                None   \n",
       "\n",
       "                                             geometry  \n",
       "11  MULTIPOLYGON (((13.61659 52.58154, 13.61458 52...  \n",
       "12  MULTIPOLYGON (((13.61668 52.57868, 13.60703 52...  "
      ]
     },
     "metadata": {},
     "output_type": "display_data"
    }
   ],
   "source": [
    "print(\"\\ngdf_neigh_geo – rows with missing values:\")\n",
    "display(gdf_neigh_geo[gdf_neigh_geo[['neighbourhood_group','neighbourhood']].isna().any(axis=1)])"
   ]
  },
  {
   "cell_type": "code",
   "execution_count": 8,
   "metadata": {},
   "outputs": [],
   "source": [
    "df_neigh_list = df_neigh_list.drop(138)\n",
    "gdf_neigh_geo = gdf_neigh_geo.drop([11, 12])"
   ]
  },
  {
   "cell_type": "code",
   "execution_count": 9,
   "metadata": {},
   "outputs": [
    {
     "name": "stdout",
     "output_type": "stream",
     "text": [
      "df_neigh_list unique neighborhoods: 138\n",
      "gdf_neigh_geo unique neighborhoods: 138\n",
      "\n",
      "Sample neighborhoods from df_neigh_list:\n",
      "['Barstraße', 'Charlottenburg Nord', 'Düsseldorfer Straße', 'Forst Grunewald', 'Grunewald', 'Halensee', 'Heerstrasse', 'Kantstraße', 'Kurfürstendamm', 'Mierendorffplatz']\n",
      "\n",
      "Sample neighborhoods from gdf_neigh_geo:\n",
      "['Blankenfelde/Niederschönhausen', 'Helmholtzplatz', 'Wiesbadener Straße', 'Schmöckwitz/Karolinenhof/Rauchfangswerder', 'Müggelheim', 'Biesdorf', 'Nord 1', 'West 5', 'Frankfurter Allee Nord', 'Buch']\n"
     ]
    }
   ],
   "source": [
    "print(\"df_neigh_list unique neighborhoods:\", df_neigh_list['neighbourhood'].nunique())\n",
    "print(\"gdf_neigh_geo unique neighborhoods:\", gdf_neigh_geo['neighbourhood'].nunique())\n",
    "\n",
    "print(\"\\nSample neighborhoods from df_neigh_list:\")\n",
    "print(df_neigh_list['neighbourhood'].head(10).tolist())\n",
    "\n",
    "print(\"\\nSample neighborhoods from gdf_neigh_geo:\")\n",
    "print(gdf_neigh_geo['neighbourhood'].head(10).tolist())"
   ]
  },
  {
   "cell_type": "code",
   "execution_count": 10,
   "metadata": {},
   "outputs": [
    {
     "name": "stdout",
     "output_type": "stream",
     "text": [
      "Are they the same neighborhoods? True\n",
      "Neighborhoods only in df_neigh_list: set()\n",
      "Neighborhoods only in gdf_neigh_geo: set()\n",
      "\n",
      "Borough groups in df_neigh_list:\n",
      "neighbourhood_group\n",
      "Treptow - Köpenick          20\n",
      "Charlottenburg-Wilm.        17\n",
      "Pankow                      16\n",
      "Lichtenberg                 13\n",
      "Reinickendorf               11\n",
      "Neukölln                    10\n",
      "Mitte                       10\n",
      "Marzahn - Hellersdorf        9\n",
      "Spandau                      9\n",
      "Friedrichshain-Kreuzberg     8\n",
      "Steglitz - Zehlendorf        8\n",
      "Tempelhof - Schöneberg       7\n",
      "Name: count, dtype: int64\n",
      "\n",
      "Borough groups in gdf_neigh_geo:\n",
      "neighbourhood_group\n",
      "Treptow - Köpenick          20\n",
      "Charlottenburg-Wilm.        17\n",
      "Pankow                      16\n",
      "Lichtenberg                 13\n",
      "Reinickendorf               11\n",
      "Neukölln                    10\n",
      "Mitte                       10\n",
      "Marzahn - Hellersdorf        9\n",
      "Spandau                      9\n",
      "Friedrichshain-Kreuzberg     8\n",
      "Steglitz - Zehlendorf        8\n",
      "Tempelhof - Schöneberg       7\n",
      "Name: count, dtype: int64\n"
     ]
    }
   ],
   "source": [
    "# Check if they're the same neighborhoods in different order\n",
    "neigh_list_set = set(df_neigh_list['neighbourhood'])\n",
    "neigh_geo_set = set(gdf_neigh_geo['neighbourhood'])\n",
    "\n",
    "print(\"Are they the same neighborhoods?\", neigh_list_set == neigh_geo_set)\n",
    "print(\"Neighborhoods only in df_neigh_list:\", neigh_list_set - neigh_geo_set)\n",
    "print(\"Neighborhoods only in gdf_neigh_geo:\", neigh_geo_set - neigh_list_set)\n",
    "\n",
    "# Also check if borough groupings help with matching\n",
    "print(\"\\nBorough groups in df_neigh_list:\")\n",
    "print(df_neigh_list['neighbourhood_group'].value_counts())\n",
    "print(\"\\nBorough groups in gdf_neigh_geo:\")\n",
    "print(gdf_neigh_geo['neighbourhood_group'].value_counts())"
   ]
  },
  {
   "cell_type": "code",
   "execution_count": 11,
   "metadata": {},
   "outputs": [
    {
     "name": "stdout",
     "output_type": "stream",
     "text": [
      "Merged dataset shape: (138, 3)\n",
      "Should be 138 rows: True\n",
      "\n",
      "Columns in merged dataset:\n",
      "['neighbourhood_group', 'neighbourhood', 'geometry']\n"
     ]
    }
   ],
   "source": [
    "merged_neighborhoods = df_neigh_list.merge(\n",
    "    gdf_neigh_geo, \n",
    "    on=['neighbourhood', 'neighbourhood_group'], \n",
    "    how='inner'\n",
    ")\n",
    "\n",
    "print(f\"Merged dataset shape: {merged_neighborhoods.shape}\")\n",
    "print(f\"Should be 138 rows: {len(merged_neighborhoods) == 138}\")\n",
    "\n",
    "# Verify the merge worked\n",
    "print(\"\\nColumns in merged dataset:\")\n",
    "print(merged_neighborhoods.columns.tolist())"
   ]
  },
  {
   "cell_type": "code",
   "execution_count": 12,
   "metadata": {},
   "outputs": [
    {
     "data": {
      "text/html": [
       "<div>\n",
       "<style scoped>\n",
       "    .dataframe tbody tr th:only-of-type {\n",
       "        vertical-align: middle;\n",
       "    }\n",
       "\n",
       "    .dataframe tbody tr th {\n",
       "        vertical-align: top;\n",
       "    }\n",
       "\n",
       "    .dataframe thead th {\n",
       "        text-align: right;\n",
       "    }\n",
       "</style>\n",
       "<table border=\"1\" class=\"dataframe\">\n",
       "  <thead>\n",
       "    <tr style=\"text-align: right;\">\n",
       "      <th></th>\n",
       "      <th>neighbourhood_group</th>\n",
       "      <th>neighbourhood</th>\n",
       "      <th>geometry</th>\n",
       "    </tr>\n",
       "  </thead>\n",
       "  <tbody>\n",
       "    <tr>\n",
       "      <th>0</th>\n",
       "      <td>Charlottenburg-Wilm.</td>\n",
       "      <td>Barstraße</td>\n",
       "      <td>MULTIPOLYGON (((13.30071 52.48778, 13.30126 52...</td>\n",
       "    </tr>\n",
       "    <tr>\n",
       "      <th>1</th>\n",
       "      <td>Charlottenburg-Wilm.</td>\n",
       "      <td>Charlottenburg Nord</td>\n",
       "      <td>MULTIPOLYGON (((13.32733 52.54145, 13.32732 52...</td>\n",
       "    </tr>\n",
       "    <tr>\n",
       "      <th>2</th>\n",
       "      <td>Charlottenburg-Wilm.</td>\n",
       "      <td>Düsseldorfer Straße</td>\n",
       "      <td>MULTIPOLYGON (((13.33697 52.50068, 13.33751 52...</td>\n",
       "    </tr>\n",
       "    <tr>\n",
       "      <th>3</th>\n",
       "      <td>Charlottenburg-Wilm.</td>\n",
       "      <td>Forst Grunewald</td>\n",
       "      <td>MULTIPOLYGON (((13.2383 52.46917, 13.23777 52....</td>\n",
       "    </tr>\n",
       "    <tr>\n",
       "      <th>4</th>\n",
       "      <td>Charlottenburg-Wilm.</td>\n",
       "      <td>Grunewald</td>\n",
       "      <td>MULTIPOLYGON (((13.26053 52.48945, 13.26094 52...</td>\n",
       "    </tr>\n",
       "    <tr>\n",
       "      <th>...</th>\n",
       "      <td>...</td>\n",
       "      <td>...</td>\n",
       "      <td>...</td>\n",
       "    </tr>\n",
       "    <tr>\n",
       "      <th>133</th>\n",
       "      <td>Treptow - Köpenick</td>\n",
       "      <td>Niederschöneweide</td>\n",
       "      <td>MULTIPOLYGON (((13.55315 52.44784, 13.54968 52...</td>\n",
       "    </tr>\n",
       "    <tr>\n",
       "      <th>134</th>\n",
       "      <td>Treptow - Köpenick</td>\n",
       "      <td>Oberschöneweide</td>\n",
       "      <td>MULTIPOLYGON (((13.49418 52.48312, 13.49664 52...</td>\n",
       "    </tr>\n",
       "    <tr>\n",
       "      <th>135</th>\n",
       "      <td>Treptow - Köpenick</td>\n",
       "      <td>Plänterwald</td>\n",
       "      <td>MULTIPOLYGON (((13.45859 52.48552, 13.45833 52...</td>\n",
       "    </tr>\n",
       "    <tr>\n",
       "      <th>136</th>\n",
       "      <td>Treptow - Köpenick</td>\n",
       "      <td>Rahnsdorf/Hessenwinkel</td>\n",
       "      <td>MULTIPOLYGON (((13.73141 52.41976, 13.73134 52...</td>\n",
       "    </tr>\n",
       "    <tr>\n",
       "      <th>137</th>\n",
       "      <td>Treptow - Köpenick</td>\n",
       "      <td>Schmöckwitz/Karolinenhof/Rauchfangswerder</td>\n",
       "      <td>MULTIPOLYGON (((13.70973 52.3963, 13.70926 52....</td>\n",
       "    </tr>\n",
       "  </tbody>\n",
       "</table>\n",
       "<p>138 rows × 3 columns</p>\n",
       "</div>"
      ],
      "text/plain": [
       "      neighbourhood_group                              neighbourhood  \\\n",
       "0    Charlottenburg-Wilm.                                  Barstraße   \n",
       "1    Charlottenburg-Wilm.                        Charlottenburg Nord   \n",
       "2    Charlottenburg-Wilm.                        Düsseldorfer Straße   \n",
       "3    Charlottenburg-Wilm.                            Forst Grunewald   \n",
       "4    Charlottenburg-Wilm.                                  Grunewald   \n",
       "..                    ...                                        ...   \n",
       "133    Treptow - Köpenick                          Niederschöneweide   \n",
       "134    Treptow - Köpenick                            Oberschöneweide   \n",
       "135    Treptow - Köpenick                                Plänterwald   \n",
       "136    Treptow - Köpenick                     Rahnsdorf/Hessenwinkel   \n",
       "137    Treptow - Köpenick  Schmöckwitz/Karolinenhof/Rauchfangswerder   \n",
       "\n",
       "                                              geometry  \n",
       "0    MULTIPOLYGON (((13.30071 52.48778, 13.30126 52...  \n",
       "1    MULTIPOLYGON (((13.32733 52.54145, 13.32732 52...  \n",
       "2    MULTIPOLYGON (((13.33697 52.50068, 13.33751 52...  \n",
       "3    MULTIPOLYGON (((13.2383 52.46917, 13.23777 52....  \n",
       "4    MULTIPOLYGON (((13.26053 52.48945, 13.26094 52...  \n",
       "..                                                 ...  \n",
       "133  MULTIPOLYGON (((13.55315 52.44784, 13.54968 52...  \n",
       "134  MULTIPOLYGON (((13.49418 52.48312, 13.49664 52...  \n",
       "135  MULTIPOLYGON (((13.45859 52.48552, 13.45833 52...  \n",
       "136  MULTIPOLYGON (((13.73141 52.41976, 13.73134 52...  \n",
       "137  MULTIPOLYGON (((13.70973 52.3963, 13.70926 52....  \n",
       "\n",
       "[138 rows x 3 columns]"
      ]
     },
     "execution_count": 12,
     "metadata": {},
     "output_type": "execute_result"
    }
   ],
   "source": [
    "merged_neighborhoods"
   ]
  },
  {
   "cell_type": "code",
   "execution_count": 13,
   "metadata": {},
   "outputs": [],
   "source": [
    "%store -r df_listings"
   ]
  },
  {
   "cell_type": "code",
   "execution_count": 14,
   "metadata": {},
   "outputs": [
    {
     "name": "stdout",
     "output_type": "stream",
     "text": [
      "Listings shape: (13945, 79)\n",
      "Listings columns: ['id', 'listing_url', 'scrape_id', 'last_scraped', 'source', 'name', 'description', 'neighborhood_overview', 'picture_url', 'host_id', 'host_url', 'host_name', 'host_since', 'host_location', 'host_about', 'host_response_time', 'host_response_rate', 'host_acceptance_rate', 'host_is_superhost', 'host_thumbnail_url', 'host_picture_url', 'host_neighbourhood', 'host_listings_count', 'host_total_listings_count', 'host_verifications', 'host_has_profile_pic', 'host_identity_verified', 'neighbourhood', 'neighbourhood_cleansed', 'neighbourhood_group_cleansed', 'latitude', 'longitude', 'property_type', 'room_type', 'accommodates', 'bathrooms', 'bathrooms_text', 'bedrooms', 'beds', 'amenities', 'price', 'minimum_nights', 'maximum_nights', 'minimum_minimum_nights', 'maximum_minimum_nights', 'minimum_maximum_nights', 'maximum_maximum_nights', 'minimum_nights_avg_ntm', 'maximum_nights_avg_ntm', 'calendar_updated', 'has_availability', 'availability_30', 'availability_60', 'availability_90', 'availability_365', 'calendar_last_scraped', 'number_of_reviews', 'number_of_reviews_ltm', 'number_of_reviews_l30d', 'availability_eoy', 'number_of_reviews_ly', 'estimated_occupancy_l365d', 'estimated_revenue_l365d', 'first_review', 'last_review', 'review_scores_rating', 'review_scores_accuracy', 'review_scores_cleanliness', 'review_scores_checkin', 'review_scores_communication', 'review_scores_location', 'review_scores_value', 'license', 'instant_bookable', 'calculated_host_listings_count', 'calculated_host_listings_count_entire_homes', 'calculated_host_listings_count_private_rooms', 'calculated_host_listings_count_shared_rooms', 'reviews_per_month']\n",
      "Sample neighborhood values from listings: neighbourhood\n",
      "Berlin, Germany                           6572\n",
      "Berlin Charlottenburg, Berlin, Germany       3\n",
      "Berlin - Mitte, Germany                      3\n",
      "Berlin, Be, Germany                          3\n",
      "Friedrichshain, Berlin, Germany              2\n",
      "Name: count, dtype: int64\n"
     ]
    }
   ],
   "source": [
    "print(\"Listings shape:\", df_listings.shape)\n",
    "print(\"Listings columns:\", df_listings.columns.tolist())\n",
    "print(\"Sample neighborhood values from listings:\", df_listings['neighbourhood'].value_counts().head())"
   ]
  },
  {
   "cell_type": "code",
   "execution_count": 15,
   "metadata": {},
   "outputs": [
    {
     "name": "stdout",
     "output_type": "stream",
     "text": [
      "neighbourhood_cleansed values:\n",
      "neighbourhood_cleansed\n",
      "Alexanderplatz              883\n",
      "Frankfurter Allee Süd FK    759\n",
      "Tempelhofer Vorstadt        663\n",
      "Brunnenstr. Süd             560\n",
      "Reuterstraße                432\n",
      "Prenzlauer Berg Südwest     399\n",
      "südliche Luisenstadt        392\n",
      "Neuköllner Mitte/Zentrum    354\n",
      "Schöneberg-Nord             324\n",
      "Rixdorf                     321\n",
      "Name: count, dtype: int64\n",
      "\n",
      "neighbourhood_group_cleansed values:\n",
      "neighbourhood_group_cleansed\n",
      "Friedrichshain-Kreuzberg    3026\n",
      "Mitte                       2991\n",
      "Pankow                      2161\n",
      "Neukölln                    1546\n",
      "Charlottenburg-Wilm.        1430\n",
      "Tempelhof - Schöneberg       951\n",
      "Treptow - Köpenick           610\n",
      "Lichtenberg                  412\n",
      "Steglitz - Zehlendorf        371\n",
      "Reinickendorf                196\n",
      "Spandau                      128\n",
      "Marzahn - Hellersdorf        123\n",
      "Name: count, dtype: int64\n",
      "\n",
      "Listings has 138 unique neighborhoods\n",
      "Merged neighborhoods has 138 unique neighborhoods\n",
      "Perfect match: True\n"
     ]
    }
   ],
   "source": [
    "print(\"neighbourhood_cleansed values:\")\n",
    "print(df_listings['neighbourhood_cleansed'].value_counts().head(10))\n",
    "\n",
    "print(\"\\nneighbourhood_group_cleansed values:\")  \n",
    "print(df_listings['neighbourhood_group_cleansed'].value_counts())\n",
    "\n",
    "# Check if they match  neighborhood data\n",
    "listings_neighborhoods = set(df_listings['neighbourhood_cleansed'].dropna())\n",
    "merged_neighborhoods_set = set(merged_neighborhoods['neighbourhood'])\n",
    "\n",
    "print(f\"\\nListings has {len(listings_neighborhoods)} unique neighborhoods\")\n",
    "print(f\"Merged neighborhoods has {len(merged_neighborhoods_set)} unique neighborhoods\")\n",
    "print(f\"Perfect match: {listings_neighborhoods == merged_neighborhoods_set}\")\n",
    "\n",
    "if listings_neighborhoods != merged_neighborhoods_set:\n",
    "    print(\"Missing from listings:\", merged_neighborhoods_set - listings_neighborhoods)\n",
    "    print(\"Extra in listings:\", listings_neighborhoods - merged_neighborhoods_set)"
   ]
  },
  {
   "cell_type": "code",
   "execution_count": 16,
   "metadata": {},
   "outputs": [
    {
     "name": "stdout",
     "output_type": "stream",
     "text": [
      "Listings has 138 unique neighborhoods\n",
      "Merged neighborhoods has 138 unique neighborhoods\n",
      "Perfect match: True\n"
     ]
    }
   ],
   "source": [
    "# Check if neighborhood names match\n",
    "listings_neighborhoods = set(df_listings['neighbourhood_cleansed'].dropna())\n",
    "merged_neighborhoods_set = set(merged_neighborhoods['neighbourhood'])\n",
    "\n",
    "print(f\"Listings has {len(listings_neighborhoods)} unique neighborhoods\")\n",
    "print(f\"Merged neighborhoods has {len(merged_neighborhoods_set)} unique neighborhoods\")\n",
    "print(f\"Perfect match: {listings_neighborhoods == merged_neighborhoods_set}\")\n",
    "\n",
    "if listings_neighborhoods != merged_neighborhoods_set:\n",
    "    print(\"\\nMissing from listings:\", merged_neighborhoods_set - listings_neighborhoods)\n",
    "    print(\"Extra in listings:\", listings_neighborhoods - merged_neighborhoods_set)"
   ]
  },
  {
   "cell_type": "code",
   "execution_count": 19,
   "metadata": {},
   "outputs": [
    {
     "name": "stdout",
     "output_type": "stream",
     "text": [
      "Original listings: (13945, 79)\n",
      "Enriched listings: (13945, 82)\n",
      "Any unmatched listings: 0\n"
     ]
    }
   ],
   "source": [
    "# Merge listings with neighborhood data\n",
    "enriched_listings = df_listings.merge(\n",
    "    merged_neighborhoods, \n",
    "    left_on='neighbourhood_cleansed', \n",
    "    right_on='neighbourhood', \n",
    "    how='left'\n",
    ")\n",
    "\n",
    "print(f\"Original listings: {df_listings.shape}\")\n",
    "print(f\"Enriched listings: {enriched_listings.shape}\")\n",
    "print(f\"Any unmatched listings: {enriched_listings['geometry'].isnull().sum()}\")"
   ]
  },
  {
   "cell_type": "code",
   "execution_count": 20,
   "metadata": {},
   "outputs": [
    {
     "data": {
      "text/plain": [
       "Index(['id', 'listing_url', 'scrape_id', 'last_scraped', 'source', 'name',\n",
       "       'description', 'neighborhood_overview', 'picture_url', 'host_id',\n",
       "       'host_url', 'host_name', 'host_since', 'host_location', 'host_about',\n",
       "       'host_response_time', 'host_response_rate', 'host_acceptance_rate',\n",
       "       'host_is_superhost', 'host_thumbnail_url', 'host_picture_url',\n",
       "       'host_neighbourhood', 'host_listings_count',\n",
       "       'host_total_listings_count', 'host_verifications',\n",
       "       'host_has_profile_pic', 'host_identity_verified', 'neighbourhood_x',\n",
       "       'neighbourhood_cleansed', 'neighbourhood_group_cleansed', 'latitude',\n",
       "       'longitude', 'property_type', 'room_type', 'accommodates', 'bathrooms',\n",
       "       'bathrooms_text', 'bedrooms', 'beds', 'amenities', 'price',\n",
       "       'minimum_nights', 'maximum_nights', 'minimum_minimum_nights',\n",
       "       'maximum_minimum_nights', 'minimum_maximum_nights',\n",
       "       'maximum_maximum_nights', 'minimum_nights_avg_ntm',\n",
       "       'maximum_nights_avg_ntm', 'calendar_updated', 'has_availability',\n",
       "       'availability_30', 'availability_60', 'availability_90',\n",
       "       'availability_365', 'calendar_last_scraped', 'number_of_reviews',\n",
       "       'number_of_reviews_ltm', 'number_of_reviews_l30d', 'availability_eoy',\n",
       "       'number_of_reviews_ly', 'estimated_occupancy_l365d',\n",
       "       'estimated_revenue_l365d', 'first_review', 'last_review',\n",
       "       'review_scores_rating', 'review_scores_accuracy',\n",
       "       'review_scores_cleanliness', 'review_scores_checkin',\n",
       "       'review_scores_communication', 'review_scores_location',\n",
       "       'review_scores_value', 'license', 'instant_bookable',\n",
       "       'calculated_host_listings_count',\n",
       "       'calculated_host_listings_count_entire_homes',\n",
       "       'calculated_host_listings_count_private_rooms',\n",
       "       'calculated_host_listings_count_shared_rooms', 'reviews_per_month',\n",
       "       'neighbourhood_group', 'neighbourhood_y', 'geometry'],\n",
       "      dtype='object')"
      ]
     },
     "execution_count": 20,
     "metadata": {},
     "output_type": "execute_result"
    }
   ],
   "source": [
    "enriched_listings.columns"
   ]
  },
  {
   "cell_type": "code",
   "execution_count": 25,
   "metadata": {},
   "outputs": [],
   "source": [
    "enriched_listings = enriched_listings.drop(['neighbourhood_x', 'neighbourhood_y'], axis=1)"
   ]
  },
  {
   "cell_type": "code",
   "execution_count": 26,
   "metadata": {},
   "outputs": [],
   "source": [
    "enriched_listings = enriched_listings.rename(columns={\n",
    "    'neighbourhood_group': 'neighbourhood_group_geo' \n",
    "})"
   ]
  },
  {
   "cell_type": "code",
   "execution_count": 27,
   "metadata": {},
   "outputs": [
    {
     "name": "stdout",
     "output_type": "stream",
     "text": [
      "Cleaned shape: (13945, 80)\n"
     ]
    }
   ],
   "source": [
    "print(f\"Cleaned shape: {enriched_listings.shape}\")"
   ]
  },
  {
   "cell_type": "code",
   "execution_count": 30,
   "metadata": {},
   "outputs": [
    {
     "name": "stdout",
     "output_type": "stream",
     "text": [
      "\n",
      "Price column sample:\n",
      "0    $105.00\n",
      "1    $135.00\n",
      "2     $75.00\n",
      "3     $77.00\n",
      "4     $40.00\n",
      "5     $60.00\n",
      "6        NaN\n",
      "7    $143.00\n",
      "8        NaN\n",
      "9     $70.00\n",
      "Name: price, dtype: object\n"
     ]
    }
   ],
   "source": [
    "print(\"\\nPrice column sample:\")\n",
    "print(enriched_listings['price'].head(10))"
   ]
  },
  {
   "cell_type": "code",
   "execution_count": 32,
   "metadata": {},
   "outputs": [
    {
     "name": "stdout",
     "output_type": "stream",
     "text": [
      "Price data type: object\n"
     ]
    }
   ],
   "source": [
    "print(f\"Price data type: {enriched_listings['price'].dtype}\")"
   ]
  },
  {
   "cell_type": "code",
   "execution_count": 33,
   "metadata": {},
   "outputs": [
    {
     "name": "stdout",
     "output_type": "stream",
     "text": [
      "Price missing values: 5047\n"
     ]
    }
   ],
   "source": [
    "print(f\"Price missing values: {enriched_listings['price'].isnull().sum()}\")"
   ]
  },
  {
   "cell_type": "code",
   "execution_count": 36,
   "metadata": {},
   "outputs": [
    {
     "name": "stdout",
     "output_type": "stream",
     "text": [
      "Stored 'enriched_listings' (DataFrame)\n"
     ]
    }
   ],
   "source": [
    "%store enriched_listings"
   ]
  },
  {
   "cell_type": "code",
   "execution_count": null,
   "metadata": {},
   "outputs": [],
   "source": []
  }
 ],
 "metadata": {
  "kernelspec": {
   "display_name": "Python 3 (ipykernel)",
   "language": "python",
   "name": "python3"
  },
  "language_info": {
   "codemirror_mode": {
    "name": "ipython",
    "version": 3
   },
   "file_extension": ".py",
   "mimetype": "text/x-python",
   "name": "python",
   "nbconvert_exporter": "python",
   "pygments_lexer": "ipython3",
   "version": "3.11.9"
  }
 },
 "nbformat": 4,
 "nbformat_minor": 4
}
