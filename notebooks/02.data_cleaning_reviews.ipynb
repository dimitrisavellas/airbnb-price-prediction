{
 "cells": [
  {
   "cell_type": "code",
   "execution_count": 1,
   "id": "3a71e4b2-d8d0-47de-b5d4-7ede89c129e8",
   "metadata": {},
   "outputs": [],
   "source": [
    "%store -r df_reviews"
   ]
  },
  {
   "cell_type": "code",
   "execution_count": 2,
   "id": "edd931b6-dee0-4b2b-908b-727dba593977",
   "metadata": {},
   "outputs": [
    {
     "data": {
      "text/html": [
       "<div>\n",
       "<style scoped>\n",
       "    .dataframe tbody tr th:only-of-type {\n",
       "        vertical-align: middle;\n",
       "    }\n",
       "\n",
       "    .dataframe tbody tr th {\n",
       "        vertical-align: top;\n",
       "    }\n",
       "\n",
       "    .dataframe thead th {\n",
       "        text-align: right;\n",
       "    }\n",
       "</style>\n",
       "<table border=\"1\" class=\"dataframe\">\n",
       "  <thead>\n",
       "    <tr style=\"text-align: right;\">\n",
       "      <th></th>\n",
       "      <th>listing_id</th>\n",
       "      <th>id</th>\n",
       "      <th>date</th>\n",
       "      <th>reviewer_id</th>\n",
       "      <th>reviewer_name</th>\n",
       "      <th>comments</th>\n",
       "    </tr>\n",
       "  </thead>\n",
       "  <tbody>\n",
       "    <tr>\n",
       "      <th>0</th>\n",
       "      <td>323255</td>\n",
       "      <td>992614</td>\n",
       "      <td>2012-03-12</td>\n",
       "      <td>1354573</td>\n",
       "      <td>Renato</td>\n",
       "      <td>I had a relaxing time in Berlin, it looks so o...</td>\n",
       "    </tr>\n",
       "    <tr>\n",
       "      <th>1</th>\n",
       "      <td>3176</td>\n",
       "      <td>4283</td>\n",
       "      <td>2009-06-20</td>\n",
       "      <td>21475</td>\n",
       "      <td>Milind</td>\n",
       "      <td>excellent stay, i would highly recommend it. a...</td>\n",
       "    </tr>\n",
       "    <tr>\n",
       "      <th>2</th>\n",
       "      <td>3176</td>\n",
       "      <td>134722</td>\n",
       "      <td>2010-11-07</td>\n",
       "      <td>263467</td>\n",
       "      <td>George</td>\n",
       "      <td>Britta's apartment in Berlin is in a great are...</td>\n",
       "    </tr>\n",
       "    <tr>\n",
       "      <th>3</th>\n",
       "      <td>3176</td>\n",
       "      <td>144064</td>\n",
       "      <td>2010-11-24</td>\n",
       "      <td>76726</td>\n",
       "      <td>Patricia</td>\n",
       "      <td>Fantastic, large place in good location. Only ...</td>\n",
       "    </tr>\n",
       "    <tr>\n",
       "      <th>4</th>\n",
       "      <td>3176</td>\n",
       "      <td>156702</td>\n",
       "      <td>2010-12-21</td>\n",
       "      <td>291657</td>\n",
       "      <td>Benedetta</td>\n",
       "      <td>L'appartamento di Britta è molto largo carino ...</td>\n",
       "    </tr>\n",
       "    <tr>\n",
       "      <th>...</th>\n",
       "      <td>...</td>\n",
       "      <td>...</td>\n",
       "      <td>...</td>\n",
       "      <td>...</td>\n",
       "      <td>...</td>\n",
       "      <td>...</td>\n",
       "    </tr>\n",
       "    <tr>\n",
       "      <th>588587</th>\n",
       "      <td>1363985791474119923</td>\n",
       "      <td>1371700285888448045</td>\n",
       "      <td>2025-03-07</td>\n",
       "      <td>246246815</td>\n",
       "      <td>Sean</td>\n",
       "      <td>Enjoyed staying at Laura's place while in Berl...</td>\n",
       "    </tr>\n",
       "    <tr>\n",
       "      <th>588588</th>\n",
       "      <td>1364272993672534452</td>\n",
       "      <td>1365911234905406942</td>\n",
       "      <td>2025-02-27</td>\n",
       "      <td>66290251</td>\n",
       "      <td>Felix</td>\n",
       "      <td>I stayed in Niklas’ penthouse for a few days i...</td>\n",
       "    </tr>\n",
       "    <tr>\n",
       "      <th>588589</th>\n",
       "      <td>1364272993672534452</td>\n",
       "      <td>1366622592968053368</td>\n",
       "      <td>2025-02-28</td>\n",
       "      <td>51293498</td>\n",
       "      <td>Matteo</td>\n",
       "      <td>The place is really amazing, I loved the desig...</td>\n",
       "    </tr>\n",
       "    <tr>\n",
       "      <th>588590</th>\n",
       "      <td>1364272993672534452</td>\n",
       "      <td>1367344527016221502</td>\n",
       "      <td>2025-03-01</td>\n",
       "      <td>3009394</td>\n",
       "      <td>David</td>\n",
       "      <td>My stay with Niklas in Berlin was just fantast...</td>\n",
       "    </tr>\n",
       "    <tr>\n",
       "      <th>588591</th>\n",
       "      <td>1365227279677394441</td>\n",
       "      <td>1371006394731772032</td>\n",
       "      <td>2025-03-06</td>\n",
       "      <td>681576910</td>\n",
       "      <td>Azamsadat</td>\n",
       "      <td>Sehr nett, freundlich und erreichbar. die Wohn...</td>\n",
       "    </tr>\n",
       "  </tbody>\n",
       "</table>\n",
       "<p>588592 rows × 6 columns</p>\n",
       "</div>"
      ],
      "text/plain": [
       "                 listing_id                   id        date  reviewer_id  \\\n",
       "0                    323255               992614  2012-03-12      1354573   \n",
       "1                      3176                 4283  2009-06-20        21475   \n",
       "2                      3176               134722  2010-11-07       263467   \n",
       "3                      3176               144064  2010-11-24        76726   \n",
       "4                      3176               156702  2010-12-21       291657   \n",
       "...                     ...                  ...         ...          ...   \n",
       "588587  1363985791474119923  1371700285888448045  2025-03-07    246246815   \n",
       "588588  1364272993672534452  1365911234905406942  2025-02-27     66290251   \n",
       "588589  1364272993672534452  1366622592968053368  2025-02-28     51293498   \n",
       "588590  1364272993672534452  1367344527016221502  2025-03-01      3009394   \n",
       "588591  1365227279677394441  1371006394731772032  2025-03-06    681576910   \n",
       "\n",
       "       reviewer_name                                           comments  \n",
       "0             Renato  I had a relaxing time in Berlin, it looks so o...  \n",
       "1             Milind  excellent stay, i would highly recommend it. a...  \n",
       "2             George  Britta's apartment in Berlin is in a great are...  \n",
       "3           Patricia  Fantastic, large place in good location. Only ...  \n",
       "4          Benedetta  L'appartamento di Britta è molto largo carino ...  \n",
       "...              ...                                                ...  \n",
       "588587          Sean  Enjoyed staying at Laura's place while in Berl...  \n",
       "588588         Felix  I stayed in Niklas’ penthouse for a few days i...  \n",
       "588589        Matteo  The place is really amazing, I loved the desig...  \n",
       "588590         David  My stay with Niklas in Berlin was just fantast...  \n",
       "588591     Azamsadat  Sehr nett, freundlich und erreichbar. die Wohn...  \n",
       "\n",
       "[588592 rows x 6 columns]"
      ]
     },
     "execution_count": 2,
     "metadata": {},
     "output_type": "execute_result"
    }
   ],
   "source": [
    "df_reviews"
   ]
  },
  {
   "cell_type": "code",
   "execution_count": 3,
   "id": "d49002da-4107-42de-b470-e8607fefebef",
   "metadata": {},
   "outputs": [
    {
     "name": "stdout",
     "output_type": "stream",
     "text": [
      "<class 'pandas.core.frame.DataFrame'>\n",
      "RangeIndex: 588592 entries, 0 to 588591\n",
      "Data columns (total 6 columns):\n",
      " #   Column         Non-Null Count   Dtype \n",
      "---  ------         --------------   ----- \n",
      " 0   listing_id     588592 non-null  int64 \n",
      " 1   id             588592 non-null  int64 \n",
      " 2   date           588592 non-null  object\n",
      " 3   reviewer_id    588592 non-null  int64 \n",
      " 4   reviewer_name  588591 non-null  object\n",
      " 5   comments       588552 non-null  object\n",
      "dtypes: int64(3), object(3)\n",
      "memory usage: 26.9+ MB\n"
     ]
    }
   ],
   "source": [
    "df_reviews.info()"
   ]
  },
  {
   "cell_type": "code",
   "execution_count": 4,
   "id": "d660dc47-dce6-45a0-b0d8-cd9d46e50b5b",
   "metadata": {},
   "outputs": [
    {
     "data": {
      "text/plain": [
       "(588592, 6)"
      ]
     },
     "execution_count": 4,
     "metadata": {},
     "output_type": "execute_result"
    }
   ],
   "source": [
    "df_reviews.shape"
   ]
  },
  {
   "cell_type": "code",
   "execution_count": 5,
   "id": "00a664a0-ebc2-4e3b-9fd1-bd471c025254",
   "metadata": {},
   "outputs": [
    {
     "data": {
      "text/plain": [
       "Index(['listing_id', 'id', 'date', 'reviewer_id', 'reviewer_name', 'comments'], dtype='object')"
      ]
     },
     "execution_count": 5,
     "metadata": {},
     "output_type": "execute_result"
    }
   ],
   "source": [
    "df_reviews.columns"
   ]
  },
  {
   "cell_type": "code",
   "execution_count": 6,
   "id": "57394bd4-6e39-499d-a07e-78858af55181",
   "metadata": {},
   "outputs": [],
   "source": [
    "import pandas as pd\n",
    "import numpy as np"
   ]
  },
  {
   "cell_type": "code",
   "execution_count": 7,
   "id": "c0bd151f-134d-4b46-8c40-ed4e246e519f",
   "metadata": {},
   "outputs": [],
   "source": [
    "df_reviews['date'] = pd.to_datetime(df_reviews['date'], errors='coerce')"
   ]
  },
  {
   "cell_type": "code",
   "execution_count": 8,
   "id": "4fdfa446-409a-4646-b7d2-91bf6d44c7bf",
   "metadata": {},
   "outputs": [],
   "source": [
    "df_reviews_clean = df_reviews.dropna(subset=['listing_id', 'comments']).copy()"
   ]
  },
  {
   "cell_type": "code",
   "execution_count": 9,
   "id": "8b18e073-d06f-47c0-9ac4-c8b13090e70a",
   "metadata": {},
   "outputs": [],
   "source": [
    "%store -r lst"
   ]
  },
  {
   "cell_type": "code",
   "execution_count": 10,
   "id": "15174e0b-6c79-4dd9-af73-647be0952cb2",
   "metadata": {},
   "outputs": [],
   "source": [
    "df_reviews_clean = df_reviews_clean[df_reviews_clean['listing_id'].isin(lst['id'])]"
   ]
  },
  {
   "cell_type": "code",
   "execution_count": 11,
   "id": "2f59d196-2acb-43ae-a3e2-f5365940e7a8",
   "metadata": {},
   "outputs": [
    {
     "name": "stdout",
     "output_type": "stream",
     "text": [
      "After basic cleaning: (588303, 6)\n",
      "Unique listings with reviews: 10618\n"
     ]
    }
   ],
   "source": [
    "print(f\"After basic cleaning: {df_reviews_clean.shape}\")\n",
    "print(f\"Unique listings with reviews: {df_reviews_clean['listing_id'].nunique()}\")"
   ]
  },
  {
   "cell_type": "code",
   "execution_count": 12,
   "id": "09b194b2-2bb2-4012-b53e-f46bd62fc533",
   "metadata": {},
   "outputs": [
    {
     "name": "stdout",
     "output_type": "stream",
     "text": [
      "Starting with 588,303 reviews\n",
      "After English filtering: 304,756 reviews\n",
      "Removed: 283,547 reviews (48.2%)\n",
      "After text cleaning: 304,691 reviews\n",
      "Unique listings: 9,840\n",
      "\n",
      "📊 Final Results:\n",
      "English reviews: 304,691\n",
      "Average review length: 235 characters\n",
      "Reviews per listing (avg): 31.0\n",
      "\n",
      "📝 Sample English reviews:\n",
      "1. I had a relaxing time in Berlin, it looks so open to people with different background, cultures and tastes. I m surely c...\n",
      "2. excellent stay, i would highly recommend it. a nice flat in a very nice area. Britta provided clear instructions in secu...\n",
      "3. Britta s apartment in Berlin is in a great area. There are numerous fantastic Restaurants and Bars to suit every taste, ...\n",
      "\n",
      "✅ Ready for your ML project!\n"
     ]
    }
   ],
   "source": [
    "import pandas as pd\n",
    "import numpy as np\n",
    "import re\n",
    "from langdetect import detect, LangDetectException\n",
    "\n",
    "def filter_english_reviews(df, comment_col='comments'):\n",
    "    \"\"\"\n",
    "    Filter DataFrame to keep only English reviews with high confidence\n",
    "    \"\"\"\n",
    "    print(f\"Starting with {len(df):,} reviews\")\n",
    "    \n",
    "    def is_english(text):\n",
    "        \"\"\"Determine if text is English using multiple checks\"\"\"\n",
    "        if pd.isna(text) or not str(text).strip():\n",
    "            return False\n",
    "        \n",
    "        text = str(text).strip()\n",
    "        \n",
    "        # Check 1: Minimum length (at least 3 words)\n",
    "        if len(text.split()) < 3:\n",
    "            return False\n",
    "        \n",
    "        # Check 2: Mostly Latin characters\n",
    "        alpha_chars = [c for c in text if c.isalpha()]\n",
    "        if alpha_chars:\n",
    "            latin_ratio = sum(1 for c in alpha_chars if ord(c) < 256) / len(alpha_chars)\n",
    "            if latin_ratio < 0.8:  # Less than 80% Latin characters\n",
    "                return False\n",
    "        \n",
    "        # Check 3: Common English words (hospitality context)\n",
    "        english_indicators = [\n",
    "            'the', 'and', 'was', 'very', 'great', 'good', 'nice', 'place', 'stay',\n",
    "            'location', 'clean', 'host', 'apartment', 'room', 'would', 'recommend',\n",
    "            'amazing', 'perfect', 'beautiful', 'comfortable', 'friendly', 'helpful'\n",
    "        ]\n",
    "        \n",
    "        text_lower = text.lower()\n",
    "        english_word_count = sum(1 for word in english_indicators if f' {word} ' in f' {text_lower} ')\n",
    "        \n",
    "        if english_word_count < 1:\n",
    "            return False\n",
    "        \n",
    "        # Check 4: Language detection\n",
    "        try:\n",
    "            detected = detect(text)\n",
    "            if detected != 'en':\n",
    "                return False\n",
    "        except (LangDetectException, Exception):\n",
    "            # If detection fails, need at least 2 English indicators\n",
    "            if english_word_count < 2:\n",
    "                return False\n",
    "        \n",
    "        # Check 5: Exclude obvious non-English patterns\n",
    "        non_english_patterns = [\n",
    "            r'[àáâãäåæçèéêëìíîïðñòóôõöøùúûüýþÿ]',  # Accented characters\n",
    "            r'\\b(sehr|ist|das|die|der|und|mit|ich|war|haben|nicht)\\b',  # German\n",
    "            r'\\b(très|est|dans|pour|avec|sur|une|nous|vous|tout)\\b',  # French\n",
    "            r'\\b(muy|está|para|con|por|una|pero|todo|más|bien)\\b',  # Spanish\n",
    "            r'\\b(molto|anche|sono|della|questa|tutto|proprio)\\b',  # Italian\n",
    "        ]\n",
    "        \n",
    "        for pattern in non_english_patterns:\n",
    "            if re.search(pattern, text_lower):\n",
    "                return False\n",
    "        \n",
    "        return True\n",
    "    \n",
    "    # Apply English filter\n",
    "    english_mask = df[comment_col].apply(is_english)\n",
    "    df_english = df[english_mask].copy()\n",
    "    \n",
    "    print(f\"After English filtering: {len(df_english):,} reviews\")\n",
    "    print(f\"Removed: {len(df) - len(df_english):,} reviews ({(len(df) - len(df_english))/len(df)*100:.1f}%)\")\n",
    "    \n",
    "    # Clean the text\n",
    "    def clean_text(text):\n",
    "        \"\"\"Clean and standardize text\"\"\"\n",
    "        if pd.isna(text):\n",
    "            return np.nan\n",
    "        \n",
    "        text = str(text).strip()\n",
    "        \n",
    "        # Remove excessive punctuation/symbols, keep basic punctuation\n",
    "        text = re.sub(r'[^\\w\\s.,!?()-]', ' ', text)\n",
    "        \n",
    "        # Normalize whitespace\n",
    "        text = re.sub(r'\\s+', ' ', text).strip()\n",
    "        \n",
    "        # Final length check\n",
    "        if len(text.split()) < 3:\n",
    "            return np.nan\n",
    "        \n",
    "        return text\n",
    "    \n",
    "    # Apply cleaning\n",
    "    df_english['comments_clean'] = df_english[comment_col].apply(clean_text)\n",
    "    df_english = df_english.dropna(subset=['comments_clean'])\n",
    "    \n",
    "    print(f\"After text cleaning: {len(df_english):,} reviews\")\n",
    "    print(f\"Unique listings: {df_english['listing_id'].nunique():,}\")\n",
    "    \n",
    "    return df_english\n",
    "\n",
    "# Apply to your cleaned data\n",
    "df_english_reviews = filter_english_reviews(df_reviews_clean)\n",
    "\n",
    "# Show results\n",
    "print(f\"\\n📊 Final Results:\")\n",
    "print(f\"English reviews: {len(df_english_reviews):,}\")\n",
    "print(f\"Average review length: {df_english_reviews['comments_clean'].str.len().mean():.0f} characters\")\n",
    "print(f\"Reviews per listing (avg): {len(df_english_reviews) / df_english_reviews['listing_id'].nunique():.1f}\")\n",
    "\n",
    "# Sample reviews\n",
    "print(f\"\\n📝 Sample English reviews:\")\n",
    "for i, comment in enumerate(df_english_reviews['comments_clean'].head(3)):\n",
    "    print(f\"{i+1}. {comment[:120]}...\")\n",
    "\n",
    "print(f\"\\n✅ Ready for your ML project!\")"
   ]
  },
  {
   "cell_type": "code",
   "execution_count": 18,
   "id": "f8929ac8-1eb0-4b9e-8fa3-f3c3670cb452",
   "metadata": {},
   "outputs": [],
   "source": [
    "df_english_reviews = df_english_reviews.drop('comments',axis=1)"
   ]
  },
  {
   "cell_type": "code",
   "execution_count": 20,
   "id": "d55a3d6c-2178-4048-9145-9d13699bc8e8",
   "metadata": {},
   "outputs": [
    {
     "name": "stdout",
     "output_type": "stream",
     "text": [
      "Stored 'df_english_reviews' (DataFrame)\n"
     ]
    }
   ],
   "source": [
    "%store df_english_reviews"
   ]
  },
  {
   "cell_type": "code",
   "execution_count": 22,
   "id": "5d9c8b6e-5bc4-4ab8-9b88-f27475ede7c8",
   "metadata": {},
   "outputs": [
    {
     "name": "stdout",
     "output_type": "stream",
     "text": [
      "Review count DataFrame created with 9840 listings\n",
      "\n",
      "First 5 rows:\n",
      "   listing_id  review_count\n",
      "0        3176           121\n",
      "1        9991             6\n",
      "2       14325            22\n",
      "3       16644            36\n",
      "4       17904           222\n",
      "\n",
      "Summary statistics:\n",
      "count    9840.000000\n",
      "mean       30.964533\n",
      "std        60.176782\n",
      "min         1.000000\n",
      "25%         3.000000\n",
      "50%         9.000000\n",
      "75%        30.000000\n",
      "max      1541.000000\n",
      "Name: review_count, dtype: float64\n"
     ]
    }
   ],
   "source": [
    "review_counts = df_english_reviews['listing_id'].value_counts().reset_index()\n",
    "review_counts.columns = ['listing_id', 'review_count']\n",
    "\n",
    "# Sort by listing_id for cleaner display\n",
    "review_counts = review_counts.sort_values('listing_id').reset_index(drop=True)\n",
    "\n",
    "print(f\"Review count DataFrame created with {len(review_counts)} listings\")\n",
    "print(f\"\\nFirst 5 rows:\")\n",
    "print(review_counts.head())\n",
    "\n",
    "print(f\"\\nSummary statistics:\")\n",
    "print(review_counts['review_count'].describe())\n"
   ]
  },
  {
   "cell_type": "code",
   "execution_count": 26,
   "id": "735b1d26-f2eb-4d34-9362-979f7ed0cac8",
   "metadata": {},
   "outputs": [
    {
     "name": "stdout",
     "output_type": "stream",
     "text": [
      "Stored 'review_counts' (DataFrame)\n"
     ]
    }
   ],
   "source": [
    "%store review_counts"
   ]
  },
  {
   "cell_type": "code",
   "execution_count": 27,
   "id": "f4e4a58b-ac0d-44c0-baa0-b287853b1623",
   "metadata": {},
   "outputs": [
    {
     "name": "stdout",
     "output_type": "stream",
     "text": [
      "Total unique listings: 9840\n",
      "Average reviews per listing: 30.96\n",
      "\n",
      "Top 10 listings by review count:\n",
      "listing_id\n",
      "34294913              1541\n",
      "49070135              1127\n",
      "45475252               814\n",
      "46864858               784\n",
      "43798011               766\n",
      "49844243               709\n",
      "721527807549293451     616\n",
      "47215807               544\n",
      "32539441               531\n",
      "264459                 518\n",
      "Name: count, dtype: int64\n"
     ]
    }
   ],
   "source": [
    "review_count_per_listing = df_english_reviews['listing_id'].value_counts()\n",
    "\n",
    "print(f\"Total unique listings: {len(review_count_per_listing)}\")\n",
    "print(f\"Average reviews per listing: {review_count_per_listing.mean():.2f}\")\n",
    "\n",
    "print(\"\\nTop 10 listings by review count:\")\n",
    "print(review_count_per_listing.head(10))"
   ]
  },
  {
   "cell_type": "code",
   "execution_count": null,
   "id": "2a423371-b912-4223-8712-89a8a0463d55",
   "metadata": {},
   "outputs": [],
   "source": []
  }
 ],
 "metadata": {
  "kernelspec": {
   "display_name": "Python 3 (ipykernel)",
   "language": "python",
   "name": "python3"
  },
  "language_info": {
   "codemirror_mode": {
    "name": "ipython",
    "version": 3
   },
   "file_extension": ".py",
   "mimetype": "text/x-python",
   "name": "python",
   "nbconvert_exporter": "python",
   "pygments_lexer": "ipython3",
   "version": "3.11.9"
  }
 },
 "nbformat": 4,
 "nbformat_minor": 5
}
