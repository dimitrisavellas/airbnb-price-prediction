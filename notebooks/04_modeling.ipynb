{
 "cells": [
  {
   "cell_type": "code",
   "execution_count": 7,
   "metadata": {},
   "outputs": [],
   "source": [
    "import pandas as pd\n",
    "import numpy as np\n",
    "from sklearn.model_selection import train_test_split\n",
    "from sklearn.tree import DecisionTreeRegressor\n",
    "from sklearn.ensemble import RandomForestRegressor\n",
    "from sklearn.preprocessing import OneHotEncoder, StandardScaler\n",
    "from sklearn.metrics import mean_absolute_error, root_mean_squared_error, r2_score"
   ]
  },
  {
   "cell_type": "code",
   "execution_count": 8,
   "metadata": {},
   "outputs": [],
   "source": [
    "%store -r listings_encoded"
   ]
  },
  {
   "cell_type": "code",
   "execution_count": 9,
   "metadata": {},
   "outputs": [],
   "source": [
    "listings_encoded['price'] = np.log(listings_encoded['price'])"
   ]
  },
  {
   "cell_type": "code",
   "execution_count": 10,
   "metadata": {},
   "outputs": [],
   "source": [
    "def train_and_eval(model, X_train, y_train, X_test, y_test, depth, estim=None):\n",
    "    \"\"\"\n",
    "    Runs training and evaluation of given decision tree or random forest\n",
    "    regressor and prints resulting metrics.\n",
    "    \"\"\"\n",
    "\n",
    "    model.fit(X_train, y_train)\n",
    "    extra_str = \"\" if estim is None else f\"{estim} estimators and \"\n",
    "    print(f\"\\nTraining {model.__class__.__name__} with {extra_str} max_depth={depth}\\n\")\n",
    "\n",
    "    # results on training set\n",
    "    y_train_pred = model.predict(X_train)\n",
    "    y_train_exp , y_train_pred_exp = np.exp(y_train), np.exp(y_train_pred)\n",
    "    train_mae = mean_absolute_error(y_train, y_train_pred)\n",
    "    train_rmse = root_mean_squared_error(y_train, y_train_pred)\n",
    "    train_r2 = r2_score(y_train, y_train_pred)\n",
    "    # results on test set\n",
    "    y_pred = model.predict(X_test)\n",
    "    y_test_exp , y_train_pred_exp = np.exp(y_test), np.exp(y_pred)\n",
    "    mae = mean_absolute_error(y_test, y_pred)\n",
    "    rmse = root_mean_squared_error(y_test, y_pred)\n",
    "    r2 = r2_score(y_test, y_pred)\n",
    "\n",
    "    print(f\"Mean Absolute Error - train: {train_mae}, test: {mae}\")\n",
    "    print(f\"Root Mean Squared Error - train: {train_rmse}, test: {rmse}\")\n",
    "    print(f\"R^2 Score - train: {train_r2}, test: {r2}\")"
   ]
  },
  {
   "cell_type": "code",
   "execution_count": 11,
   "metadata": {},
   "outputs": [],
   "source": [
    "X_train, X_test, y_train, y_test = train_test_split(\n",
    "    listings_encoded.drop(\"price\", axis=1),\n",
    "    listings_encoded[\"price\"],\n",
    "    test_size=0.2,\n",
    ")"
   ]
  },
  {
   "cell_type": "code",
   "execution_count": 12,
   "metadata": {},
   "outputs": [],
   "source": [
    "y_train, y_test = np.log(y_train),np.log(y_test)"
   ]
  },
  {
   "cell_type": "code",
   "execution_count": 13,
   "metadata": {},
   "outputs": [
    {
     "name": "stdout",
     "output_type": "stream",
     "text": [
      "\n",
      "Training RandomForestRegressor with 100 estimators and  max_depth=5\n",
      "\n",
      "Mean Absolute Error - train: 0.0664621524851559, test: 0.06937508004687862\n",
      "Root Mean Squared Error - train: 0.08735749919631819, test: 0.09181740014869313\n",
      "R^2 Score - train: 0.5600743981338463, test: 0.5084664787294877\n",
      "\n",
      "Training RandomForestRegressor with 100 estimators and  max_depth=6\n",
      "\n",
      "Mean Absolute Error - train: 0.06238017393514769, test: 0.06622786949138688\n",
      "Root Mean Squared Error - train: 0.08153133971761975, test: 0.0880885036762356\n",
      "R^2 Score - train: 0.6167977870147021, test: 0.5475801786558727\n",
      "\n",
      "Training RandomForestRegressor with 100 estimators and  max_depth=8\n",
      "\n",
      "Mean Absolute Error - train: 0.053863181620844, test: 0.06187113844106134\n",
      "Root Mean Squared Error - train: 0.06998473864899764, test: 0.08277071118091264\n",
      "R^2 Score - train: 0.7176514632903208, test: 0.6005554208988475\n",
      "\n",
      "Training RandomForestRegressor with 200 estimators and  max_depth=5\n",
      "\n",
      "Mean Absolute Error - train: 0.06636836950548651, test: 0.06931539471450666\n",
      "Root Mean Squared Error - train: 0.08721503083361083, test: 0.09171569527795398\n",
      "R^2 Score - train: 0.561508147339964, test: 0.5095548054692302\n",
      "\n",
      "Training RandomForestRegressor with 200 estimators and  max_depth=6\n",
      "\n",
      "Mean Absolute Error - train: 0.06230219486212902, test: 0.06624684649921637\n",
      "Root Mean Squared Error - train: 0.08144809876148612, test: 0.08806402326254283\n",
      "R^2 Score - train: 0.6175798625998576, test: 0.5478316050045575\n",
      "\n",
      "Training RandomForestRegressor with 200 estimators and  max_depth=8\n",
      "\n",
      "Mean Absolute Error - train: 0.053800904462719575, test: 0.06192681860249113\n",
      "Root Mean Squared Error - train: 0.06986334222067761, test: 0.08280671195913815\n",
      "R^2 Score - train: 0.7186301445477943, test: 0.6002078718001438\n",
      "\n",
      "Training DecisionTreeRegressor with  max_depth=6\n",
      "\n",
      "Mean Absolute Error - train: 0.06607810302787334, test: 0.07134054355456122\n",
      "Root Mean Squared Error - train: 0.08707432651179033, test: 0.0943017967672757\n",
      "R^2 Score - train: 0.5629218470108545, test: 0.48150676616491495\n",
      "\n",
      "Training DecisionTreeRegressor with  max_depth=8\n",
      "\n",
      "Mean Absolute Error - train: 0.057728534573594045, test: 0.06780404733842026\n",
      "Root Mean Squared Error - train: 0.07651496057881613, test: 0.0910231593712011\n",
      "R^2 Score - train: 0.6625017161961104, test: 0.5169334459890649\n",
      "\n",
      "Training DecisionTreeRegressor with  max_depth=10\n",
      "\n",
      "Mean Absolute Error - train: 0.04687532804420049, test: 0.06810713965311815\n",
      "Root Mean Squared Error - train: 0.06453394809608039, test: 0.09371771900758942\n",
      "R^2 Score - train: 0.7599203650903625, test: 0.487909666733806\n",
      "\n",
      "Training DecisionTreeRegressor with  max_depth=12\n",
      "\n",
      "Mean Absolute Error - train: 0.03525055598666352, test: 0.06980137888673615\n",
      "Root Mean Squared Error - train: 0.05225840439413647, test: 0.09577675829920816\n",
      "R^2 Score - train: 0.8425686782600129, test: 0.46516055993522487\n"
     ]
    }
   ],
   "source": [
    "# ----------------------------------\n",
    "# Random Forest Hyperparameter Search\n",
    "# ----------------------------------\n",
    "for estim in [100, 200]:\n",
    "    for depth in [5,6,8]:\n",
    "\n",
    "        model = RandomForestRegressor(\n",
    "            n_estimators=estim, random_state=42, max_depth=depth\n",
    "        )\n",
    "\n",
    "        train_and_eval(\n",
    "            model, X_train, y_train, X_test, y_test, estim=estim, depth=depth\n",
    "        )\n",
    "\n",
    "# ----------------------------------\n",
    "# Decision Tree Hyperparameter Search\n",
    "# ----------------------------------\n",
    "\n",
    "for depth in [6, 8, 10, 12]:\n",
    "    model = DecisionTreeRegressor(max_depth=depth)\n",
    "    train_and_eval(model, X_train, y_train, X_test, y_test, depth=depth)"
   ]
  },
  {
   "cell_type": "code",
   "execution_count": 17,
   "metadata": {},
   "outputs": [
    {
     "name": "stdout",
     "output_type": "stream",
     "text": [
      "✅  Best RF saved → rf_best_estim100_depth8_rmse0.08277.joblib\n"
     ]
    }
   ],
   "source": [
    "import joblib\n",
    "from sklearn.metrics import mean_squared_error\n",
    "grid = [(n, d) for n in [100, 200] for d in [5, 6, 8]]\n",
    "scored = [(\n",
    "    np.sqrt(mean_squared_error(\n",
    "        y_test,\n",
    "        RandomForestRegressor(n_estimators=n, max_depth=d, random_state=42, n_jobs=-1)\n",
    "        .fit(X_train, y_train)\n",
    "        .predict(X_test))),\n",
    "    n, d)\n",
    "    for n, d in grid]\n",
    "\n",
    "rmse, n, d = min(scored)\n",
    "best = RandomForestRegressor(n_estimators=n, max_depth=d, random_state=42, n_jobs=-1).fit(X_train, y_train)\n",
    "joblib.dump(best, f\"rf_best_estim{n}_depth{d}_rmse{rmse:.5f}.joblib\")\n",
    "print(f\"  Best RF saved → rf_best_estim{n}_depth{d}_rmse{rmse:.5f}.joblib\")"
   ]
  },
  {
   "cell_type": "code",
   "execution_count": null,
   "metadata": {},
   "outputs": [],
   "source": []
  }
 ],
 "metadata": {
  "kernelspec": {
   "display_name": "Python 3",
   "language": "python",
   "name": "python3"
  },
  "language_info": {
   "codemirror_mode": {
    "name": "ipython",
    "version": 3
   },
   "file_extension": ".py",
   "mimetype": "text/x-python",
   "name": "python",
   "nbconvert_exporter": "python",
   "pygments_lexer": "ipython3",
   "version": "3.13.1"
  }
 },
 "nbformat": 4,
 "nbformat_minor": 4
}
