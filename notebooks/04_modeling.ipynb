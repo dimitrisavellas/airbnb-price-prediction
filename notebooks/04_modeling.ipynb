{
 "cells": [
  {
   "cell_type": "code",
   "execution_count": 1,
   "metadata": {},
   "outputs": [],
   "source": [
    "import pandas as pd\n",
    "import numpy as np\n",
    "from sklearn.model_selection import train_test_split\n",
    "from sklearn.tree import DecisionTreeRegressor\n",
    "from sklearn.ensemble import RandomForestRegressor\n",
    "from sklearn.preprocessing import OneHotEncoder, StandardScaler\n",
    "from sklearn.metrics import mean_absolute_error, root_mean_squared_error, r2_score"
   ]
  },
  {
   "cell_type": "code",
   "execution_count": 2,
   "metadata": {},
   "outputs": [],
   "source": [
    "%store -r listings_encoded"
   ]
  },
  {
   "cell_type": "code",
   "execution_count": 3,
   "metadata": {},
   "outputs": [],
   "source": [
    "def train_and_eval(model, X_train, y_train, X_test, y_test, depth, estim=None):\n",
    "    \"\"\"\n",
    "    Runs training and evaluation of given decision tree or random forest\n",
    "    regressor and prints resulting metrics.\n",
    "    \"\"\"\n",
    "\n",
    "    model.fit(X_train, y_train)\n",
    "    extra_str = \"\" if estim is None else f\"{estim} estimators and \"\n",
    "    print(f\"\\nTraining {model.__class__.__name__} with {extra_str} max_depth={depth}\\n\")\n",
    "\n",
    "    # results on training set\n",
    "    y_train_pred = model.predict(X_train)\n",
    "    y_train_exp , y_train_pred_exp = np.exp(y_train), np.exp(y_train_pred)\n",
    "    train_mae = mean_absolute_error(y_train, y_train_pred)\n",
    "    train_rmse = root_mean_squared_error(y_train, y_train_pred)\n",
    "    train_r2 = r2_score(y_train, y_train_pred)\n",
    "    # results on test set\n",
    "    y_pred = model.predict(X_test)\n",
    "    y_test_exp , y_train_pred_exp = np.exp(y_test), np.exp(y_pred)\n",
    "    mae = mean_absolute_error(y_test, y_pred)\n",
    "    rmse = root_mean_squared_error(y_test, y_pred)\n",
    "    r2 = r2_score(y_test, y_pred)\n",
    "\n",
    "    print(f\"Mean Absolute Error - train: {train_mae}, test: {mae}\")\n",
    "    print(f\"Root Mean Squared Error - train: {train_rmse}, test: {rmse}\")\n",
    "    print(f\"R^2 Score - train: {train_r2}, test: {r2}\")"
   ]
  },
  {
   "cell_type": "code",
   "execution_count": 4,
   "metadata": {},
   "outputs": [],
   "source": [
    "X_train, X_test, y_train, y_test = train_test_split(\n",
    "    listings_encoded.drop(\"price\", axis=1),\n",
    "    listings_encoded[\"price\"],\n",
    "    test_size=0.2,\n",
    ")"
   ]
  },
  {
   "cell_type": "code",
   "execution_count": 5,
   "metadata": {},
   "outputs": [],
   "source": [
    "y_train, y_test = np.log(y_train),np.log(y_test)"
   ]
  },
  {
   "cell_type": "code",
   "execution_count": 6,
   "metadata": {},
   "outputs": [
    {
     "name": "stdout",
     "output_type": "stream",
     "text": [
      "\n",
      "Training RandomForestRegressor with 100 estimators and  max_depth=5\n",
      "\n",
      "Mean Absolute Error - train: 0.30197419938174386, test: 0.31816808180555184\n",
      "Root Mean Squared Error - train: 0.39501628360797136, test: 0.4189831076389828\n",
      "R^2 Score - train: 0.561501565821888, test: 0.49625706935992464\n",
      "\n",
      "Training RandomForestRegressor with 100 estimators and  max_depth=6\n",
      "\n",
      "Mean Absolute Error - train: 0.2832840125356306, test: 0.30606539469843336\n",
      "Root Mean Squared Error - train: 0.36973119023402107, test: 0.40268300180104377\n",
      "R^2 Score - train: 0.6158416944644176, test: 0.5346898436930045\n",
      "\n",
      "Training RandomForestRegressor with 100 estimators and  max_depth=8\n",
      "\n",
      "Mean Absolute Error - train: 0.24582206438541337, test: 0.2885122915783986\n",
      "Root Mean Squared Error - train: 0.3192533369878678, test: 0.38001277155898283\n",
      "R^2 Score - train: 0.7135763068676253, test: 0.585607083955335\n",
      "\n",
      "Training RandomForestRegressor with 200 estimators and  max_depth=5\n",
      "\n",
      "Mean Absolute Error - train: 0.3025585245499273, test: 0.3188863278637392\n",
      "Root Mean Squared Error - train: 0.39567099977332393, test: 0.4198630647958125\n",
      "R^2 Score - train: 0.5600467906934107, test: 0.49413890433734486\n",
      "\n",
      "Training RandomForestRegressor with 200 estimators and  max_depth=6\n",
      "\n",
      "Mean Absolute Error - train: 0.2835426574572928, test: 0.30680097144155566\n",
      "Root Mean Squared Error - train: 0.36994702336038304, test: 0.4039476547353979\n",
      "R^2 Score - train: 0.6153930534456067, test: 0.53176257884978\n",
      "\n",
      "Training RandomForestRegressor with 200 estimators and  max_depth=8\n",
      "\n",
      "Mean Absolute Error - train: 0.24593400881212776, test: 0.2888088706053011\n",
      "Root Mean Squared Error - train: 0.3194119156232687, test: 0.38069555885723316\n",
      "R^2 Score - train: 0.7132916930280395, test: 0.5841166266405806\n",
      "\n",
      "Training DecisionTreeRegressor with  max_depth=6\n",
      "\n",
      "Mean Absolute Error - train: 0.3006881936388839, test: 0.33066411036867555\n",
      "Root Mean Squared Error - train: 0.39498254723090326, test: 0.4341928471454217\n",
      "R^2 Score - train: 0.5615764625662496, test: 0.45901992912094314\n",
      "\n",
      "Training DecisionTreeRegressor with  max_depth=8\n",
      "\n",
      "Mean Absolute Error - train: 0.2638388353205926, test: 0.32172587362528376\n",
      "Root Mean Squared Error - train: 0.3513825570504837, test: 0.4268258966891146\n",
      "R^2 Score - train: 0.653024790043309, test: 0.47722181102205474\n",
      "\n",
      "Training DecisionTreeRegressor with  max_depth=10\n",
      "\n",
      "Mean Absolute Error - train: 0.22200172595038384, test: 0.31807725659582337\n",
      "Root Mean Squared Error - train: 0.30904819369615627, test: 0.4288675156246059\n",
      "R^2 Score - train: 0.7315950823626485, test: 0.4722086828242509\n",
      "\n",
      "Training DecisionTreeRegressor with  max_depth=12\n",
      "\n",
      "Mean Absolute Error - train: 0.1765038468679592, test: 0.32888092291634186\n",
      "Root Mean Squared Error - train: 0.25942117446071167, test: 0.44899307704415753\n",
      "R^2 Score - train: 0.8108750214839752, test: 0.4215108382910321\n"
     ]
    }
   ],
   "source": [
    "# ----------------------------------\n",
    "# Random Forest Hyperparameter Search\n",
    "# ----------------------------------\n",
    "for estim in [100, 200]:\n",
    "    for depth in [5,6,8]:\n",
    "\n",
    "        model = RandomForestRegressor(\n",
    "            n_estimators=estim, random_state=42, max_depth=depth\n",
    "        )\n",
    "\n",
    "        train_and_eval(\n",
    "            model, X_train, y_train, X_test, y_test, estim=estim, depth=depth\n",
    "        )\n",
    "\n",
    "# ----------------------------------\n",
    "# Decision Tree Hyperparameter Search\n",
    "# ----------------------------------\n",
    "\n",
    "for depth in [6, 8, 10, 12]:\n",
    "    model = DecisionTreeRegressor(max_depth=depth)\n",
    "    train_and_eval(model, X_train, y_train, X_test, y_test, depth=depth)"
   ]
  },
  {
   "cell_type": "code",
   "execution_count": null,
   "metadata": {},
   "outputs": [],
   "source": []
  }
 ],
 "metadata": {
  "kernelspec": {
   "display_name": "Python 3",
   "language": "python",
   "name": "python3"
  },
  "language_info": {
   "codemirror_mode": {
    "name": "ipython",
    "version": 3
   },
   "file_extension": ".py",
   "mimetype": "text/x-python",
   "name": "python",
   "nbconvert_exporter": "python",
   "pygments_lexer": "ipython3",
   "version": "3.13.1"
  }
 },
 "nbformat": 4,
 "nbformat_minor": 4
}
