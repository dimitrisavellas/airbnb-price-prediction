{
 "cells": [
  {
   "cell_type": "code",
   "execution_count": 1,
   "metadata": {},
   "outputs": [],
   "source": [
    "import pandas as pd\n",
    "import numpy as np\n",
    "from sklearn.model_selection import train_test_split\n",
    "from sklearn.tree import DecisionTreeRegressor\n",
    "from sklearn.ensemble import RandomForestRegressor\n",
    "from sklearn.preprocessing import OneHotEncoder, StandardScaler\n",
    "from sklearn.metrics import mean_absolute_error, root_mean_squared_error, r2_score"
   ]
  },
  {
   "cell_type": "code",
   "execution_count": 2,
   "metadata": {},
   "outputs": [],
   "source": [
    "%store -r listings_encoded"
   ]
  },
  {
   "cell_type": "code",
   "execution_count": 3,
   "metadata": {},
   "outputs": [],
   "source": [
    "def train_and_eval(model, X_train, y_train, X_test, y_test, depth, estim=None):\n",
    "    \"\"\"\n",
    "    Runs training and evaluation of given decision tree or random forest\n",
    "    regressor and prints resulting metrics.\n",
    "    \"\"\"\n",
    "\n",
    "    model.fit(X_train, y_train)\n",
    "    extra_str = \"\" if estim is None else f\"{estim} estimators and \"\n",
    "    print(f\"\\nTraining {model.__class__.__name__} with {extra_str} max_depth={depth}\\n\")\n",
    "\n",
    "    # results on training set\n",
    "    y_train_pred = model.predict(X_train)\n",
    "    y_train_exp , y_train_pred_exp = np.exp(y_train), np.exp(y_train_pred)\n",
    "    train_mae = mean_absolute_error(y_train, y_train_pred)\n",
    "    train_rmse = root_mean_squared_error(y_train, y_train_pred)\n",
    "    train_r2 = r2_score(y_train, y_train_pred)\n",
    "    # results on test set\n",
    "    y_pred = model.predict(X_test)\n",
    "    y_test_exp , y_train_pred_exp = np.exp(y_test), np.exp(y_pred)\n",
    "    mae = mean_absolute_error(y_test, y_pred)\n",
    "    rmse = root_mean_squared_error(y_test, y_pred)\n",
    "    r2 = r2_score(y_test, y_pred)\n",
    "\n",
    "    print(f\"Mean Absolute Error - train: {train_mae}, test: {mae}\")\n",
    "    print(f\"Root Mean Squared Error - train: {train_rmse}, test: {rmse}\")\n",
    "    print(f\"R^2 Score - train: {train_r2}, test: {r2}\")"
   ]
  },
  {
   "cell_type": "code",
   "execution_count": 4,
   "metadata": {},
   "outputs": [],
   "source": [
    "X_train, X_test, y_train, y_test = train_test_split(\n",
    "    listings_encoded.drop(\"price\", axis=1),\n",
    "    listings_encoded[\"price\"],\n",
    "    test_size=0.2,\n",
    ")"
   ]
  },
  {
   "cell_type": "code",
   "execution_count": 5,
   "metadata": {},
   "outputs": [],
   "source": [
    "y_train, y_test = np.log(y_train),np.log(y_test)"
   ]
  },
  {
   "cell_type": "code",
   "execution_count": 6,
   "metadata": {},
   "outputs": [
    {
     "name": "stdout",
     "output_type": "stream",
     "text": [
      "\n",
      "Training RandomForestRegressor with 100 estimators and  max_depth=5\n",
      "\n",
      "Mean Absolute Error - train: 0.31217989707444604, test: 0.3191526580518711\n",
      "Root Mean Squared Error - train: 0.42706233689260886, test: 0.43853186329727556\n",
      "R^2 Score - train: 0.5372591020395503, test: 0.48636047696319906\n",
      "\n",
      "Training RandomForestRegressor with 100 estimators and  max_depth=6\n",
      "\n",
      "Mean Absolute Error - train: 0.29274429832876825, test: 0.3085932196158926\n",
      "Root Mean Squared Error - train: 0.3952890116674039, test: 0.42558780433657734\n",
      "R^2 Score - train: 0.6035532842601655, test: 0.5162349668205337\n",
      "\n",
      "Training RandomForestRegressor with 100 estimators and  max_depth=8\n",
      "\n",
      "Mean Absolute Error - train: 0.2547398807622485, test: 0.2949252689972509\n",
      "Root Mean Squared Error - train: 0.3371796902255879, test: 0.40974478033652667\n",
      "R^2 Score - train: 0.711544944231578, test: 0.5515820537781382\n",
      "\n",
      "Training RandomForestRegressor with 200 estimators and  max_depth=5\n",
      "\n",
      "Mean Absolute Error - train: 0.31143494830875473, test: 0.31844316575599063\n",
      "Root Mean Squared Error - train: 0.4264360487996746, test: 0.43715688256092333\n",
      "R^2 Score - train: 0.5386153284568986, test: 0.48957637675434307\n",
      "\n",
      "Training RandomForestRegressor with 200 estimators and  max_depth=6\n",
      "\n",
      "Mean Absolute Error - train: 0.29204048404364913, test: 0.30804730186135043\n",
      "Root Mean Squared Error - train: 0.39515147799848443, test: 0.4241893031745371\n",
      "R^2 Score - train: 0.6038291092099273, test: 0.5194090915184281\n",
      "\n",
      "Training RandomForestRegressor with 200 estimators and  max_depth=8\n",
      "\n",
      "Mean Absolute Error - train: 0.2537166767870483, test: 0.29395304136452605\n",
      "Root Mean Squared Error - train: 0.335982698839163, test: 0.40882794929693145\n",
      "R^2 Score - train: 0.7135893458162321, test: 0.5535865382939464\n",
      "\n",
      "Training DecisionTreeRegressor with  max_depth=6\n",
      "\n",
      "Mean Absolute Error - train: 0.30933637798874714, test: 0.33176590287601937\n",
      "Root Mean Squared Error - train: 0.42684008841335863, test: 0.46582169946075835\n",
      "R^2 Score - train: 0.5377406087961861, test: 0.420443799632787\n",
      "\n",
      "Training DecisionTreeRegressor with  max_depth=8\n",
      "\n",
      "Mean Absolute Error - train: 0.2654586304020774, test: 0.3237367965966318\n",
      "Root Mean Squared Error - train: 0.3595537457942391, test: 0.4727276026064285\n",
      "R^2 Score - train: 0.6719931030060473, test: 0.40313233950877425\n",
      "\n",
      "Training DecisionTreeRegressor with  max_depth=10\n",
      "\n",
      "Mean Absolute Error - train: 0.21760126416916892, test: 0.33474950390991975\n",
      "Root Mean Squared Error - train: 0.297736029293149, test: 0.5014114636967275\n",
      "R^2 Score - train: 0.7750851529553978, test: 0.32850212386373245\n",
      "\n",
      "Training DecisionTreeRegressor with  max_depth=12\n",
      "\n",
      "Mean Absolute Error - train: 0.16674538985396625, test: 0.34137658607554267\n",
      "Root Mean Squared Error - train: 0.2417641209382615, test: 0.5099595394735079\n",
      "R^2 Score - train: 0.8517007208330868, test: 0.30541153615652694\n"
     ]
    }
   ],
   "source": [
    "# ----------------------------------\n",
    "# Random Forest Hyperparameter Search\n",
    "# ----------------------------------\n",
    "for estim in [100, 200]:\n",
    "    for depth in [5,6,8]:\n",
    "\n",
    "        model = RandomForestRegressor(\n",
    "            n_estimators=estim, random_state=42, max_depth=depth\n",
    "        )\n",
    "\n",
    "        train_and_eval(\n",
    "            model, X_train, y_train, X_test, y_test, estim=estim, depth=depth\n",
    "        )\n",
    "\n",
    "# ----------------------------------\n",
    "# Decision Tree Hyperparameter Search\n",
    "# ----------------------------------\n",
    "\n",
    "for depth in [6, 8, 10, 12]:\n",
    "    model = DecisionTreeRegressor(max_depth=depth)\n",
    "    train_and_eval(model, X_train, y_train, X_test, y_test, depth=depth)"
   ]
  },
  {
   "cell_type": "code",
   "execution_count": null,
   "metadata": {},
   "outputs": [],
   "source": []
  }
 ],
 "metadata": {
  "kernelspec": {
   "display_name": "Python 3",
   "language": "python",
   "name": "python3"
  },
  "language_info": {
   "codemirror_mode": {
    "name": "ipython",
    "version": 3
   },
   "file_extension": ".py",
   "mimetype": "text/x-python",
   "name": "python",
   "nbconvert_exporter": "python",
   "pygments_lexer": "ipython3",
   "version": "3.13.1"
  }
 },
 "nbformat": 4,
 "nbformat_minor": 4
}
