{
 "cells": [
  {
   "cell_type": "code",
   "execution_count": 1,
   "metadata": {},
   "outputs": [],
   "source": [
    "%store -r df_neigh_list gdf_neigh_geo"
   ]
  },
  {
   "cell_type": "code",
   "execution_count": 2,
   "metadata": {},
   "outputs": [
    {
     "data": {
      "text/html": [
       "<div>\n",
       "<style scoped>\n",
       "    .dataframe tbody tr th:only-of-type {\n",
       "        vertical-align: middle;\n",
       "    }\n",
       "\n",
       "    .dataframe tbody tr th {\n",
       "        vertical-align: top;\n",
       "    }\n",
       "\n",
       "    .dataframe thead th {\n",
       "        text-align: right;\n",
       "    }\n",
       "</style>\n",
       "<table border=\"1\" class=\"dataframe\">\n",
       "  <thead>\n",
       "    <tr style=\"text-align: right;\">\n",
       "      <th></th>\n",
       "      <th>neighbourhood_group</th>\n",
       "      <th>neighbourhood</th>\n",
       "    </tr>\n",
       "  </thead>\n",
       "  <tbody>\n",
       "    <tr>\n",
       "      <th>0</th>\n",
       "      <td>Charlottenburg-Wilm.</td>\n",
       "      <td>Barstraße</td>\n",
       "    </tr>\n",
       "    <tr>\n",
       "      <th>1</th>\n",
       "      <td>Charlottenburg-Wilm.</td>\n",
       "      <td>Charlottenburg Nord</td>\n",
       "    </tr>\n",
       "    <tr>\n",
       "      <th>2</th>\n",
       "      <td>Charlottenburg-Wilm.</td>\n",
       "      <td>Düsseldorfer Straße</td>\n",
       "    </tr>\n",
       "    <tr>\n",
       "      <th>3</th>\n",
       "      <td>Charlottenburg-Wilm.</td>\n",
       "      <td>Forst Grunewald</td>\n",
       "    </tr>\n",
       "    <tr>\n",
       "      <th>4</th>\n",
       "      <td>Charlottenburg-Wilm.</td>\n",
       "      <td>Grunewald</td>\n",
       "    </tr>\n",
       "    <tr>\n",
       "      <th>...</th>\n",
       "      <td>...</td>\n",
       "      <td>...</td>\n",
       "    </tr>\n",
       "    <tr>\n",
       "      <th>134</th>\n",
       "      <td>Treptow - Köpenick</td>\n",
       "      <td>Oberschöneweide</td>\n",
       "    </tr>\n",
       "    <tr>\n",
       "      <th>135</th>\n",
       "      <td>Treptow - Köpenick</td>\n",
       "      <td>Plänterwald</td>\n",
       "    </tr>\n",
       "    <tr>\n",
       "      <th>136</th>\n",
       "      <td>Treptow - Köpenick</td>\n",
       "      <td>Rahnsdorf/Hessenwinkel</td>\n",
       "    </tr>\n",
       "    <tr>\n",
       "      <th>137</th>\n",
       "      <td>Treptow - Köpenick</td>\n",
       "      <td>Schmöckwitz/Karolinenhof/Rauchfangswerder</td>\n",
       "    </tr>\n",
       "    <tr>\n",
       "      <th>138</th>\n",
       "      <td>NaN</td>\n",
       "      <td>NaN</td>\n",
       "    </tr>\n",
       "  </tbody>\n",
       "</table>\n",
       "<p>139 rows × 2 columns</p>\n",
       "</div>"
      ],
      "text/plain": [
       "      neighbourhood_group                              neighbourhood\n",
       "0    Charlottenburg-Wilm.                                  Barstraße\n",
       "1    Charlottenburg-Wilm.                        Charlottenburg Nord\n",
       "2    Charlottenburg-Wilm.                        Düsseldorfer Straße\n",
       "3    Charlottenburg-Wilm.                            Forst Grunewald\n",
       "4    Charlottenburg-Wilm.                                  Grunewald\n",
       "..                    ...                                        ...\n",
       "134    Treptow - Köpenick                            Oberschöneweide\n",
       "135    Treptow - Köpenick                                Plänterwald\n",
       "136    Treptow - Köpenick                     Rahnsdorf/Hessenwinkel\n",
       "137    Treptow - Köpenick  Schmöckwitz/Karolinenhof/Rauchfangswerder\n",
       "138                   NaN                                        NaN\n",
       "\n",
       "[139 rows x 2 columns]"
      ]
     },
     "execution_count": 2,
     "metadata": {},
     "output_type": "execute_result"
    }
   ],
   "source": [
    "df_neigh_list"
   ]
  },
  {
   "cell_type": "code",
   "execution_count": 3,
   "metadata": {},
   "outputs": [
    {
     "data": {
      "text/html": [
       "<div>\n",
       "<style scoped>\n",
       "    .dataframe tbody tr th:only-of-type {\n",
       "        vertical-align: middle;\n",
       "    }\n",
       "\n",
       "    .dataframe tbody tr th {\n",
       "        vertical-align: top;\n",
       "    }\n",
       "\n",
       "    .dataframe thead th {\n",
       "        text-align: right;\n",
       "    }\n",
       "</style>\n",
       "<table border=\"1\" class=\"dataframe\">\n",
       "  <thead>\n",
       "    <tr style=\"text-align: right;\">\n",
       "      <th></th>\n",
       "      <th>neighbourhood</th>\n",
       "      <th>neighbourhood_group</th>\n",
       "      <th>geometry</th>\n",
       "    </tr>\n",
       "  </thead>\n",
       "  <tbody>\n",
       "    <tr>\n",
       "      <th>0</th>\n",
       "      <td>Blankenfelde/Niederschönhausen</td>\n",
       "      <td>Pankow</td>\n",
       "      <td>MULTIPOLYGON (((13.41191 52.61487, 13.41183 52...</td>\n",
       "    </tr>\n",
       "    <tr>\n",
       "      <th>1</th>\n",
       "      <td>Helmholtzplatz</td>\n",
       "      <td>Pankow</td>\n",
       "      <td>MULTIPOLYGON (((13.41405 52.54929, 13.41422 52...</td>\n",
       "    </tr>\n",
       "    <tr>\n",
       "      <th>2</th>\n",
       "      <td>Wiesbadener Straße</td>\n",
       "      <td>Charlottenburg-Wilm.</td>\n",
       "      <td>MULTIPOLYGON (((13.30748 52.46788, 13.30743 52...</td>\n",
       "    </tr>\n",
       "    <tr>\n",
       "      <th>3</th>\n",
       "      <td>Schmöckwitz/Karolinenhof/Rauchfangswerder</td>\n",
       "      <td>Treptow - Köpenick</td>\n",
       "      <td>MULTIPOLYGON (((13.70973 52.3963, 13.70926 52....</td>\n",
       "    </tr>\n",
       "    <tr>\n",
       "      <th>4</th>\n",
       "      <td>Müggelheim</td>\n",
       "      <td>Treptow - Köpenick</td>\n",
       "      <td>MULTIPOLYGON (((13.73762 52.4085, 13.73773 52....</td>\n",
       "    </tr>\n",
       "    <tr>\n",
       "      <th>...</th>\n",
       "      <td>...</td>\n",
       "      <td>...</td>\n",
       "      <td>...</td>\n",
       "    </tr>\n",
       "    <tr>\n",
       "      <th>135</th>\n",
       "      <td>Hellersdorf-Ost</td>\n",
       "      <td>Marzahn - Hellersdorf</td>\n",
       "      <td>MULTIPOLYGON (((13.62135 52.52704, 13.62079 52...</td>\n",
       "    </tr>\n",
       "    <tr>\n",
       "      <th>136</th>\n",
       "      <td>Mahlsdorf</td>\n",
       "      <td>Marzahn - Hellersdorf</td>\n",
       "      <td>MULTIPOLYGON (((13.65554 52.52982, 13.65693 52...</td>\n",
       "    </tr>\n",
       "    <tr>\n",
       "      <th>137</th>\n",
       "      <td>Ost 1</td>\n",
       "      <td>Reinickendorf</td>\n",
       "      <td>MULTIPOLYGON (((13.36666 52.55823, 13.36561 52...</td>\n",
       "    </tr>\n",
       "    <tr>\n",
       "      <th>138</th>\n",
       "      <td>Ost 2</td>\n",
       "      <td>Reinickendorf</td>\n",
       "      <td>MULTIPOLYGON (((13.36418 52.56298, 13.36423 52...</td>\n",
       "    </tr>\n",
       "    <tr>\n",
       "      <th>139</th>\n",
       "      <td>MV 2</td>\n",
       "      <td>Reinickendorf</td>\n",
       "      <td>MULTIPOLYGON (((13.34846 52.60664, 13.34911 52...</td>\n",
       "    </tr>\n",
       "  </tbody>\n",
       "</table>\n",
       "<p>140 rows × 3 columns</p>\n",
       "</div>"
      ],
      "text/plain": [
       "                                 neighbourhood    neighbourhood_group  \\\n",
       "0               Blankenfelde/Niederschönhausen                 Pankow   \n",
       "1                               Helmholtzplatz                 Pankow   \n",
       "2                           Wiesbadener Straße   Charlottenburg-Wilm.   \n",
       "3    Schmöckwitz/Karolinenhof/Rauchfangswerder     Treptow - Köpenick   \n",
       "4                                   Müggelheim     Treptow - Köpenick   \n",
       "..                                         ...                    ...   \n",
       "135                            Hellersdorf-Ost  Marzahn - Hellersdorf   \n",
       "136                                  Mahlsdorf  Marzahn - Hellersdorf   \n",
       "137                                      Ost 1          Reinickendorf   \n",
       "138                                      Ost 2          Reinickendorf   \n",
       "139                                       MV 2          Reinickendorf   \n",
       "\n",
       "                                              geometry  \n",
       "0    MULTIPOLYGON (((13.41191 52.61487, 13.41183 52...  \n",
       "1    MULTIPOLYGON (((13.41405 52.54929, 13.41422 52...  \n",
       "2    MULTIPOLYGON (((13.30748 52.46788, 13.30743 52...  \n",
       "3    MULTIPOLYGON (((13.70973 52.3963, 13.70926 52....  \n",
       "4    MULTIPOLYGON (((13.73762 52.4085, 13.73773 52....  \n",
       "..                                                 ...  \n",
       "135  MULTIPOLYGON (((13.62135 52.52704, 13.62079 52...  \n",
       "136  MULTIPOLYGON (((13.65554 52.52982, 13.65693 52...  \n",
       "137  MULTIPOLYGON (((13.36666 52.55823, 13.36561 52...  \n",
       "138  MULTIPOLYGON (((13.36418 52.56298, 13.36423 52...  \n",
       "139  MULTIPOLYGON (((13.34846 52.60664, 13.34911 52...  \n",
       "\n",
       "[140 rows x 3 columns]"
      ]
     },
     "execution_count": 3,
     "metadata": {},
     "output_type": "execute_result"
    }
   ],
   "source": [
    "gdf_neigh_geo"
   ]
  },
  {
   "cell_type": "code",
   "execution_count": 4,
   "metadata": {},
   "outputs": [
    {
     "name": "stdout",
     "output_type": "stream",
     "text": [
      "df_neigh_list missing counts:\n",
      "neighbourhood_group    1\n",
      "neighbourhood          1\n",
      "dtype: int64\n"
     ]
    }
   ],
   "source": [
    "print(\"df_neigh_list missing counts:\")\n",
    "print(df_neigh_list.isna().sum())"
   ]
  },
  {
   "cell_type": "code",
   "execution_count": 5,
   "metadata": {},
   "outputs": [
    {
     "name": "stdout",
     "output_type": "stream",
     "text": [
      "\n",
      "gdf_neigh_geo missing counts:\n",
      "neighbourhood          2\n",
      "neighbourhood_group    2\n",
      "geometry               0\n",
      "dtype: int64\n"
     ]
    }
   ],
   "source": [
    "print(\"\\ngdf_neigh_geo missing counts:\")\n",
    "print(gdf_neigh_geo.isna().sum())"
   ]
  },
  {
   "cell_type": "code",
   "execution_count": 6,
   "metadata": {},
   "outputs": [
    {
     "name": "stdout",
     "output_type": "stream",
     "text": [
      "\n",
      "df_neigh_list – rows with missing values:\n"
     ]
    },
    {
     "data": {
      "text/html": [
       "<div>\n",
       "<style scoped>\n",
       "    .dataframe tbody tr th:only-of-type {\n",
       "        vertical-align: middle;\n",
       "    }\n",
       "\n",
       "    .dataframe tbody tr th {\n",
       "        vertical-align: top;\n",
       "    }\n",
       "\n",
       "    .dataframe thead th {\n",
       "        text-align: right;\n",
       "    }\n",
       "</style>\n",
       "<table border=\"1\" class=\"dataframe\">\n",
       "  <thead>\n",
       "    <tr style=\"text-align: right;\">\n",
       "      <th></th>\n",
       "      <th>neighbourhood_group</th>\n",
       "      <th>neighbourhood</th>\n",
       "    </tr>\n",
       "  </thead>\n",
       "  <tbody>\n",
       "    <tr>\n",
       "      <th>138</th>\n",
       "      <td>NaN</td>\n",
       "      <td>NaN</td>\n",
       "    </tr>\n",
       "  </tbody>\n",
       "</table>\n",
       "</div>"
      ],
      "text/plain": [
       "    neighbourhood_group neighbourhood\n",
       "138                 NaN           NaN"
      ]
     },
     "metadata": {},
     "output_type": "display_data"
    }
   ],
   "source": [
    "print(\"\\ndf_neigh_list – rows with missing values:\")\n",
    "display(df_neigh_list[df_neigh_list[['neighbourhood_group','neighbourhood']].isna().any(axis=1)])"
   ]
  },
  {
   "cell_type": "code",
   "execution_count": 7,
   "metadata": {},
   "outputs": [
    {
     "name": "stdout",
     "output_type": "stream",
     "text": [
      "\n",
      "gdf_neigh_geo – rows with missing values:\n"
     ]
    },
    {
     "data": {
      "text/html": [
       "<div>\n",
       "<style scoped>\n",
       "    .dataframe tbody tr th:only-of-type {\n",
       "        vertical-align: middle;\n",
       "    }\n",
       "\n",
       "    .dataframe tbody tr th {\n",
       "        vertical-align: top;\n",
       "    }\n",
       "\n",
       "    .dataframe thead th {\n",
       "        text-align: right;\n",
       "    }\n",
       "</style>\n",
       "<table border=\"1\" class=\"dataframe\">\n",
       "  <thead>\n",
       "    <tr style=\"text-align: right;\">\n",
       "      <th></th>\n",
       "      <th>neighbourhood</th>\n",
       "      <th>neighbourhood_group</th>\n",
       "      <th>geometry</th>\n",
       "    </tr>\n",
       "  </thead>\n",
       "  <tbody>\n",
       "    <tr>\n",
       "      <th>11</th>\n",
       "      <td>None</td>\n",
       "      <td>None</td>\n",
       "      <td>MULTIPOLYGON (((13.61659 52.58154, 13.61458 52...</td>\n",
       "    </tr>\n",
       "    <tr>\n",
       "      <th>12</th>\n",
       "      <td>None</td>\n",
       "      <td>None</td>\n",
       "      <td>MULTIPOLYGON (((13.61668 52.57868, 13.60703 52...</td>\n",
       "    </tr>\n",
       "  </tbody>\n",
       "</table>\n",
       "</div>"
      ],
      "text/plain": [
       "   neighbourhood neighbourhood_group  \\\n",
       "11          None                None   \n",
       "12          None                None   \n",
       "\n",
       "                                             geometry  \n",
       "11  MULTIPOLYGON (((13.61659 52.58154, 13.61458 52...  \n",
       "12  MULTIPOLYGON (((13.61668 52.57868, 13.60703 52...  "
      ]
     },
     "metadata": {},
     "output_type": "display_data"
    }
   ],
   "source": [
    "print(\"\\ngdf_neigh_geo – rows with missing values:\")\n",
    "display(gdf_neigh_geo[gdf_neigh_geo[['neighbourhood_group','neighbourhood']].isna().any(axis=1)])"
   ]
  },
  {
   "cell_type": "code",
   "execution_count": 8,
   "metadata": {},
   "outputs": [],
   "source": [
    "df_neigh_list = df_neigh_list.drop(138)\n",
    "gdf_neigh_geo = gdf_neigh_geo.drop([11, 12])"
   ]
  },
  {
   "cell_type": "code",
   "execution_count": 9,
   "metadata": {},
   "outputs": [
    {
     "name": "stdout",
     "output_type": "stream",
     "text": [
      "df_neigh_list unique neighborhoods: 138\n",
      "gdf_neigh_geo unique neighborhoods: 138\n"
     ]
    }
   ],
   "source": [
    "print(\"df_neigh_list unique neighborhoods:\", df_neigh_list['neighbourhood'].nunique())\n",
    "print(\"gdf_neigh_geo unique neighborhoods:\", gdf_neigh_geo['neighbourhood'].nunique())\n",
    "\n"
   ]
  },
  {
   "cell_type": "code",
   "execution_count": 10,
   "metadata": {},
   "outputs": [
    {
     "name": "stdout",
     "output_type": "stream",
     "text": [
      "Are they the same neighborhoods? True\n",
      "Neighborhoods only in df_neigh_list: set()\n",
      "Neighborhoods only in gdf_neigh_geo: set()\n",
      "\n",
      "Borough groups in df_neigh_list:\n",
      "neighbourhood_group\n",
      "Treptow - Köpenick          20\n",
      "Charlottenburg-Wilm.        17\n",
      "Pankow                      16\n",
      "Lichtenberg                 13\n",
      "Reinickendorf               11\n",
      "Neukölln                    10\n",
      "Mitte                       10\n",
      "Marzahn - Hellersdorf        9\n",
      "Spandau                      9\n",
      "Friedrichshain-Kreuzberg     8\n",
      "Steglitz - Zehlendorf        8\n",
      "Tempelhof - Schöneberg       7\n",
      "Name: count, dtype: int64\n",
      "\n",
      "Borough groups in gdf_neigh_geo:\n",
      "neighbourhood_group\n",
      "Treptow - Köpenick          20\n",
      "Charlottenburg-Wilm.        17\n",
      "Pankow                      16\n",
      "Lichtenberg                 13\n",
      "Reinickendorf               11\n",
      "Neukölln                    10\n",
      "Mitte                       10\n",
      "Marzahn - Hellersdorf        9\n",
      "Spandau                      9\n",
      "Friedrichshain-Kreuzberg     8\n",
      "Steglitz - Zehlendorf        8\n",
      "Tempelhof - Schöneberg       7\n",
      "Name: count, dtype: int64\n"
     ]
    }
   ],
   "source": [
    "# Check if they're the same neighborhoods in different order\n",
    "neigh_list_set = set(df_neigh_list['neighbourhood'])\n",
    "neigh_geo_set = set(gdf_neigh_geo['neighbourhood'])\n",
    "\n",
    "print(\"Are they the same neighborhoods?\", neigh_list_set == neigh_geo_set)\n",
    "print(\"Neighborhoods only in df_neigh_list:\", neigh_list_set - neigh_geo_set)\n",
    "print(\"Neighborhoods only in gdf_neigh_geo:\", neigh_geo_set - neigh_list_set)\n",
    "\n",
    "# Also check if borough groupings help with matching\n",
    "print(\"\\nBorough groups in df_neigh_list:\")\n",
    "print(df_neigh_list['neighbourhood_group'].value_counts())\n",
    "print(\"\\nBorough groups in gdf_neigh_geo:\")\n",
    "print(gdf_neigh_geo['neighbourhood_group'].value_counts())"
   ]
  },
  {
   "cell_type": "code",
   "execution_count": 14,
   "metadata": {},
   "outputs": [
    {
     "name": "stdout",
     "output_type": "stream",
     "text": [
      "Merged dataset shape: (138, 3)\n",
      "Should be 138 rows: True\n",
      "\n",
      "Columns in merged dataset:\n",
      "['neighbourhood_group', 'neighbourhood', 'geometry']\n"
     ]
    }
   ],
   "source": [
    "merged_neighborhoods = df_neigh_list.merge(\n",
    "    gdf_neigh_geo, \n",
    "    on=['neighbourhood', 'neighbourhood_group'], \n",
    "    how='inner'\n",
    ")\n",
    "\n",
    "print(f\"Merged dataset shape: {merged_neighborhoods.shape}\")\n",
    "print(f\"Should be 138 rows: {len(merged_neighborhoods) == 138}\")\n",
    "\n",
    "# Verify the merge worked\n",
    "print(\"\\nColumns in merged dataset:\")\n",
    "print(merged_neighborhoods.columns.tolist())"
   ]
  },
  {
   "cell_type": "code",
   "execution_count": 15,
   "metadata": {},
   "outputs": [
    {
     "data": {
      "text/html": [
       "<div>\n",
       "<style scoped>\n",
       "    .dataframe tbody tr th:only-of-type {\n",
       "        vertical-align: middle;\n",
       "    }\n",
       "\n",
       "    .dataframe tbody tr th {\n",
       "        vertical-align: top;\n",
       "    }\n",
       "\n",
       "    .dataframe thead th {\n",
       "        text-align: right;\n",
       "    }\n",
       "</style>\n",
       "<table border=\"1\" class=\"dataframe\">\n",
       "  <thead>\n",
       "    <tr style=\"text-align: right;\">\n",
       "      <th></th>\n",
       "      <th>neighbourhood_group</th>\n",
       "      <th>neighbourhood</th>\n",
       "      <th>geometry</th>\n",
       "    </tr>\n",
       "  </thead>\n",
       "  <tbody>\n",
       "    <tr>\n",
       "      <th>0</th>\n",
       "      <td>Charlottenburg-Wilm.</td>\n",
       "      <td>Barstraße</td>\n",
       "      <td>MULTIPOLYGON (((13.30071 52.48778, 13.30126 52...</td>\n",
       "    </tr>\n",
       "    <tr>\n",
       "      <th>1</th>\n",
       "      <td>Charlottenburg-Wilm.</td>\n",
       "      <td>Charlottenburg Nord</td>\n",
       "      <td>MULTIPOLYGON (((13.32733 52.54145, 13.32732 52...</td>\n",
       "    </tr>\n",
       "    <tr>\n",
       "      <th>2</th>\n",
       "      <td>Charlottenburg-Wilm.</td>\n",
       "      <td>Düsseldorfer Straße</td>\n",
       "      <td>MULTIPOLYGON (((13.33697 52.50068, 13.33751 52...</td>\n",
       "    </tr>\n",
       "    <tr>\n",
       "      <th>3</th>\n",
       "      <td>Charlottenburg-Wilm.</td>\n",
       "      <td>Forst Grunewald</td>\n",
       "      <td>MULTIPOLYGON (((13.2383 52.46917, 13.23777 52....</td>\n",
       "    </tr>\n",
       "    <tr>\n",
       "      <th>4</th>\n",
       "      <td>Charlottenburg-Wilm.</td>\n",
       "      <td>Grunewald</td>\n",
       "      <td>MULTIPOLYGON (((13.26053 52.48945, 13.26094 52...</td>\n",
       "    </tr>\n",
       "    <tr>\n",
       "      <th>...</th>\n",
       "      <td>...</td>\n",
       "      <td>...</td>\n",
       "      <td>...</td>\n",
       "    </tr>\n",
       "    <tr>\n",
       "      <th>133</th>\n",
       "      <td>Treptow - Köpenick</td>\n",
       "      <td>Niederschöneweide</td>\n",
       "      <td>MULTIPOLYGON (((13.55315 52.44784, 13.54968 52...</td>\n",
       "    </tr>\n",
       "    <tr>\n",
       "      <th>134</th>\n",
       "      <td>Treptow - Köpenick</td>\n",
       "      <td>Oberschöneweide</td>\n",
       "      <td>MULTIPOLYGON (((13.49418 52.48312, 13.49664 52...</td>\n",
       "    </tr>\n",
       "    <tr>\n",
       "      <th>135</th>\n",
       "      <td>Treptow - Köpenick</td>\n",
       "      <td>Plänterwald</td>\n",
       "      <td>MULTIPOLYGON (((13.45859 52.48552, 13.45833 52...</td>\n",
       "    </tr>\n",
       "    <tr>\n",
       "      <th>136</th>\n",
       "      <td>Treptow - Köpenick</td>\n",
       "      <td>Rahnsdorf/Hessenwinkel</td>\n",
       "      <td>MULTIPOLYGON (((13.73141 52.41976, 13.73134 52...</td>\n",
       "    </tr>\n",
       "    <tr>\n",
       "      <th>137</th>\n",
       "      <td>Treptow - Köpenick</td>\n",
       "      <td>Schmöckwitz/Karolinenhof/Rauchfangswerder</td>\n",
       "      <td>MULTIPOLYGON (((13.70973 52.3963, 13.70926 52....</td>\n",
       "    </tr>\n",
       "  </tbody>\n",
       "</table>\n",
       "<p>138 rows × 3 columns</p>\n",
       "</div>"
      ],
      "text/plain": [
       "      neighbourhood_group                              neighbourhood  \\\n",
       "0    Charlottenburg-Wilm.                                  Barstraße   \n",
       "1    Charlottenburg-Wilm.                        Charlottenburg Nord   \n",
       "2    Charlottenburg-Wilm.                        Düsseldorfer Straße   \n",
       "3    Charlottenburg-Wilm.                            Forst Grunewald   \n",
       "4    Charlottenburg-Wilm.                                  Grunewald   \n",
       "..                    ...                                        ...   \n",
       "133    Treptow - Köpenick                          Niederschöneweide   \n",
       "134    Treptow - Köpenick                            Oberschöneweide   \n",
       "135    Treptow - Köpenick                                Plänterwald   \n",
       "136    Treptow - Köpenick                     Rahnsdorf/Hessenwinkel   \n",
       "137    Treptow - Köpenick  Schmöckwitz/Karolinenhof/Rauchfangswerder   \n",
       "\n",
       "                                              geometry  \n",
       "0    MULTIPOLYGON (((13.30071 52.48778, 13.30126 52...  \n",
       "1    MULTIPOLYGON (((13.32733 52.54145, 13.32732 52...  \n",
       "2    MULTIPOLYGON (((13.33697 52.50068, 13.33751 52...  \n",
       "3    MULTIPOLYGON (((13.2383 52.46917, 13.23777 52....  \n",
       "4    MULTIPOLYGON (((13.26053 52.48945, 13.26094 52...  \n",
       "..                                                 ...  \n",
       "133  MULTIPOLYGON (((13.55315 52.44784, 13.54968 52...  \n",
       "134  MULTIPOLYGON (((13.49418 52.48312, 13.49664 52...  \n",
       "135  MULTIPOLYGON (((13.45859 52.48552, 13.45833 52...  \n",
       "136  MULTIPOLYGON (((13.73141 52.41976, 13.73134 52...  \n",
       "137  MULTIPOLYGON (((13.70973 52.3963, 13.70926 52....  \n",
       "\n",
       "[138 rows x 3 columns]"
      ]
     },
     "execution_count": 15,
     "metadata": {},
     "output_type": "execute_result"
    }
   ],
   "source": [
    "merged_neighborhoods"
   ]
  },
  {
   "cell_type": "code",
   "execution_count": 16,
   "metadata": {
    "collapsed": true,
    "jupyter": {
     "outputs_hidden": true
    }
   },
   "outputs": [
    {
     "name": "stdout",
     "output_type": "stream",
     "text": [
      "Stored 'merged_neighborhoods' (DataFrame)\n"
     ]
    }
   ],
   "source": [
    "%store merged_neighborhoods"
   ]
  }
 ],
 "metadata": {
  "kernelspec": {
   "display_name": "Python 3 (ipykernel)",
   "language": "python",
   "name": "python3"
  },
  "language_info": {
   "codemirror_mode": {
    "name": "ipython",
    "version": 3
   },
   "file_extension": ".py",
   "mimetype": "text/x-python",
   "name": "python",
   "nbconvert_exporter": "python",
   "pygments_lexer": "ipython3",
   "version": "3.11.9"
  }
 },
 "nbformat": 4,
 "nbformat_minor": 4
}
