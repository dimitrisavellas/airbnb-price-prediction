{
 "cells": [
  {
   "cell_type": "code",
   "execution_count": null,
   "id": "36cbd050",
   "metadata": {},
   "outputs": [],
   "source": [
    "import os\n",
    "import glob\n",
    "import torch\n",
    "from utils import *\n",
    "import pandas as pd\n",
    "from PIL import Image\n",
    "from tqdm import tqdm\n",
    "import torch.nn as nn\n",
    "import torch.optim as optim\n",
    "from torch.optim.lr_scheduler import ReduceLROnPlateau\n",
    "import torchvision.models as models\n",
    "import torchvision.transforms as transforms\n",
    "from torch.utils.data import Dataset, DataLoader"
   ]
  },
  {
   "cell_type": "markdown",
   "id": "f4a6f1c9",
   "metadata": {},
   "source": [
    "#### Dataset Class"
   ]
  },
  {
   "cell_type": "code",
   "execution_count": null,
   "id": "7d32c711",
   "metadata": {},
   "outputs": [],
   "source": [
    "class AirbnbDataset(Dataset):\n",
    "    def _init__(self, csv, image_root, transforms=None):\n",
    "        self.listings = pd.read_csv(csv)\n",
    "        self.image_root = image_root\n",
    "        self.transforms = transforms\n",
    "        self.pairs = []\n",
    "\n",
    "        for _, row in self.listings.iterrows():\n",
    "            listing_id = row[\"listing\"]\n",
    "            price = row[\"price\"]\n",
    "            image_path = os.path.join(self.image_root, listing_id)\n",
    "            images = glob.glob(os.path.join(image_path, \"*.jpg\"))\n",
    "\n",
    "            for path in images:\n",
    "                self.pairs.append((path, price))\n",
    "\n",
    "    def __len__(self):\n",
    "        return len(self.listing_data)\n",
    "\n",
    "    def __getitem__(self, index):\n",
    "        image_path, price = self.pairs[index]\n",
    "        image = Image.open(image_path).convert(\"RGB\")\n",
    "\n",
    "        if self.transforms:\n",
    "            image = self.transforms(image)\n",
    "\n",
    "        return image, torch.tensor([price], dtype=torch.float32)"
   ]
  },
  {
   "cell_type": "markdown",
   "id": "dc400b56",
   "metadata": {},
   "source": [
    "#### Model Definition"
   ]
  },
  {
   "cell_type": "code",
   "execution_count": null,
   "id": "300d4dbc",
   "metadata": {},
   "outputs": [],
   "source": [
    "class AirbnbPricePredictor(nn.Module):\n",
    "    def __init__(self):\n",
    "        super().__init__()\n",
    "        resnet = models.resnet18(pretrained=True)\n",
    "        resnet.fc = nn.Linear(resnet.fc.in_features, 1)\n",
    "        self.model = resnet\n",
    "\n",
    "    def forward(self, x):\n",
    "        return self.model(x)"
   ]
  },
  {
   "cell_type": "markdown",
   "id": "e494e98f",
   "metadata": {},
   "source": [
    "#### Train and Validate "
   ]
  },
  {
   "cell_type": "code",
   "execution_count": null,
   "id": "e94ad5d2",
   "metadata": {},
   "outputs": [],
   "source": [
    "def train(model, train_loader, val_loader, device, max_epochs=50, initial_lr=0.0001):\n",
    "    model.to(device)\n",
    "    optimizer = optim.Adam(model.parameters(), lr=initial_lr)\n",
    "    criterion = nn.MSELoss()\n",
    "    scheduler = ReduceLROnPlateau(optimizer, mode=\"min\", patience=3, factor=0.5)\n",
    "    best_val_loss = float(\"inf\")\n",
    "    best_epoch = 0\n",
    "    train_history, val_history = []\n",
    "    model.train()\n",
    "    for epoch in range(max_epochs):\n",
    "        train_loss = 0.0\n",
    "        for images, prices in tqdm(train_loader, desc=f\"Epoch {epoch+1}/{max_epochs}\"):\n",
    "            images, prices = images.to(device), prices.to(device)\n",
    "            optimizer.zero_grad()\n",
    "            outputs = model(images)\n",
    "            loss = criterion(outputs.squeeze(), prices.squeeze())\n",
    "            train_loss += loss.item()\n",
    "            loss.backward()\n",
    "            optimizer.step()\n",
    "\n",
    "        val_loss = 0.0\n",
    "        model.eval()\n",
    "        with torch.no_grad():\n",
    "            for images, prices in tqdm(val_loader, desc=\"Validation\"):\n",
    "                images, prices = images.to(device), prices.to(device)\n",
    "                outputs = model(images)\n",
    "                loss = criterion(outputs.squeeze(), prices.squeeze())\n",
    "                val_loss += loss.item()\n",
    "\n",
    "        avg_train_loss = train_loss / len(train_loader)\n",
    "        avg_val_loss = val_loss / len(val_loader)\n",
    "        train_history.append(avg_train_loss)\n",
    "        val_history.append(avg_val_loss)\n",
    "        scheduler.step(avg_val_loss)\n",
    "\n",
    "        if avg_val_loss < best_val_loss:\n",
    "            best_val_loss = avg_val_loss\n",
    "            best_epoch = epoch\n",
    "            torch.save(\n",
    "                model.state_dict(),\n",
    "                f\"cnn_checkpoints/{model.__class__.__name__}_{best_epoch}.pth\",\n",
    "            )\n",
    "        elif epoch - best_epoch > 10:  # Early stopping\n",
    "            print(\"Early stopping triggered.\")\n",
    "            break\n",
    "\n",
    "        plot_loss(train_history, val_history)\n",
    "        print(f\"Best Epoch: {best_epoch}, Validation Loss: {best_val_loss:.4f}\")"
   ]
  },
  {
   "cell_type": "code",
   "execution_count": null,
   "id": "080e95a4",
   "metadata": {},
   "outputs": [],
   "source": [
    "def inference(model, listing_id, device):\n",
    "    with torch.no_grad():\n",
    "        model.to(device)\n",
    "        model.eval()\n",
    "\n",
    "        predictions = []\n",
    "        for image in glob.glob(f\"images/{listing_id}/*.jpg\"):\n",
    "            image = image.to(device)\n",
    "            output = model(image)\n",
    "            prediction = np.exp(output.item())\n",
    "            prediction.append(prediction)\n",
    "\n",
    "        avg_prediction = np.mean(predictions)\n",
    "        return avg_prediction"
   ]
  }
 ],
 "metadata": {
  "kernelspec": {
   "display_name": "Python 3",
   "language": "python",
   "name": "python3"
  },
  "language_info": {
   "codemirror_mode": {
    "name": "ipython",
    "version": 3
   },
   "file_extension": ".py",
   "mimetype": "text/x-python",
   "name": "python",
   "nbconvert_exporter": "python",
   "pygments_lexer": "ipython3",
   "version": "3.9.13"
  }
 },
 "nbformat": 4,
 "nbformat_minor": 5
}
