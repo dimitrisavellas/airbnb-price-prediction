{
 "cells": [
  {
   "cell_type": "code",
   "execution_count": 1,
   "id": "fb1dd6e6-01c0-4ae4-9e2b-50e88a290ef1",
   "metadata": {},
   "outputs": [],
   "source": [
    "%store -r df_calendar"
   ]
  },
  {
   "cell_type": "code",
   "execution_count": 2,
   "id": "129431a1-915e-4418-988e-fa30ec9e0a2c",
   "metadata": {},
   "outputs": [],
   "source": [
    "import pandas as pd "
   ]
  },
  {
   "cell_type": "code",
   "execution_count": 3,
   "id": "3334f7b3-80e8-4960-85a4-a867aec05780",
   "metadata": {},
   "outputs": [
    {
     "name": "stdout",
     "output_type": "stream",
     "text": [
      "\n",
      "Data types:\n",
      "listing_id          int64\n",
      "date               object\n",
      "available          object\n",
      "price              object\n",
      "adjusted_price    float64\n",
      "minimum_nights    float64\n",
      "maximum_nights    float64\n",
      "dtype: object\n",
      "\n",
      "Missing values:\n",
      "listing_id              0\n",
      "date                    0\n",
      "available               0\n",
      "price                   0\n",
      "adjusted_price    5085865\n",
      "minimum_nights         39\n",
      "maximum_nights         39\n",
      "dtype: int64\n"
     ]
    }
   ],
   "source": [
    "print(\"\\nData types:\")\n",
    "print(df_calendar.dtypes)\n",
    "print(\"\\nMissing values:\")\n",
    "print(df_calendar.isnull().sum())"
   ]
  },
  {
   "cell_type": "code",
   "execution_count": 4,
   "id": "314ef147-5116-4a88-b209-d3362731b8d8",
   "metadata": {},
   "outputs": [],
   "source": [
    "df_calendar_clean = df_calendar.drop('adjusted_price', axis=1)"
   ]
  },
  {
   "cell_type": "code",
   "execution_count": 5,
   "id": "20241f50-7ea1-4c6e-baf3-918a708db87a",
   "metadata": {},
   "outputs": [
    {
     "name": "stdout",
     "output_type": "stream",
     "text": [
      "\n",
      "Sample prices after cleaning:\n",
      "0    51.0\n",
      "1    51.0\n",
      "2    51.0\n",
      "3    51.0\n",
      "4    51.0\n",
      "Name: price, dtype: float64\n",
      "\n",
      "Price stats:\n",
      "count    5.085865e+06\n",
      "mean     1.540131e+02\n",
      "std      4.361455e+02\n",
      "min      0.000000e+00\n",
      "25%      5.400000e+01\n",
      "50%      8.700000e+01\n",
      "75%      1.400000e+02\n",
      "max      1.000000e+04\n",
      "Name: price, dtype: float64\n"
     ]
    }
   ],
   "source": [
    "# Remove $ and convert to float\n",
    "df_calendar_clean['price'] = df_calendar_clean['price'].str.replace('$', '', regex=False)\n",
    "df_calendar_clean['price'] = df_calendar_clean['price'].str.replace(',', '', regex=False)\n",
    "df_calendar_clean['price'] = pd.to_numeric(df_calendar_clean['price'], errors='coerce')\n",
    "\n",
    "print(\"\\nSample prices after cleaning:\")\n",
    "print(df_calendar_clean['price'].head())\n",
    "print(f\"\\nPrice stats:\")\n",
    "print(df_calendar_clean['price'].describe())"
   ]
  },
  {
   "cell_type": "code",
   "execution_count": 6,
   "id": "35b64a7b-ed7b-4ce4-9ea2-e43ab49f5aae",
   "metadata": {},
   "outputs": [
    {
     "name": "stdout",
     "output_type": "stream",
     "text": [
      "Sample dates before conversion:\n",
      "0    2025-03-16\n",
      "1    2025-03-17\n",
      "2    2025-03-18\n",
      "3    2025-03-19\n",
      "4    2025-03-20\n",
      "Name: date, dtype: object\n",
      "Date data type: object\n",
      "\n",
      "Sample dates after conversion:\n",
      "0   2025-03-16\n",
      "1   2025-03-17\n",
      "2   2025-03-18\n",
      "3   2025-03-19\n",
      "4   2025-03-20\n",
      "Name: date, dtype: datetime64[ns]\n",
      "New date data type: datetime64[ns]\n",
      "Date range: 2025-03-15 00:00:00 to 2026-03-16 00:00:00\n"
     ]
    }
   ],
   "source": [
    "# Convert date column\n",
    "print(\"Sample dates before conversion:\")\n",
    "print(df_calendar_clean['date'].head())\n",
    "print(f\"Date data type: {df_calendar_clean['date'].dtype}\")\n",
    "\n",
    "# Convert to datetime\n",
    "df_calendar_clean['date'] = pd.to_datetime(df_calendar_clean['date'])\n",
    "\n",
    "print(\"\\nSample dates after conversion:\")\n",
    "print(df_calendar_clean['date'].head())\n",
    "print(f\"New date data type: {df_calendar_clean['date'].dtype}\")\n",
    "print(f\"Date range: {df_calendar_clean['date'].min()} to {df_calendar_clean['date'].max()}\")"
   ]
  },
  {
   "cell_type": "code",
   "execution_count": 7,
   "id": "68d5e80e-1a09-4b5f-b06c-55f35c2bc841",
   "metadata": {},
   "outputs": [
    {
     "name": "stdout",
     "output_type": "stream",
     "text": [
      "Available values before conversion:\n",
      "available\n",
      "f    3228016\n",
      "t    1857849\n",
      "Name: count, dtype: int64\n"
     ]
    }
   ],
   "source": [
    "print(\"Available values before conversion:\")\n",
    "print(df_calendar_clean['available'].value_counts())\n"
   ]
  },
  {
   "cell_type": "code",
   "execution_count": 8,
   "id": "9dd4497b-6424-44e6-b6ae-0710cbd5d358",
   "metadata": {},
   "outputs": [],
   "source": [
    "df_calendar_clean['available'] = df_calendar_clean['available'].map({'t': True, 'f': False})"
   ]
  },
  {
   "cell_type": "code",
   "execution_count": 9,
   "id": "a7400154-d97d-459c-9db1-01e646a14584",
   "metadata": {},
   "outputs": [
    {
     "name": "stdout",
     "output_type": "stream",
     "text": [
      "\n",
      "Available values after conversion:\n",
      "available\n",
      "False    3228016\n",
      "True     1857849\n",
      "Name: count, dtype: int64\n"
     ]
    }
   ],
   "source": [
    "print(\"\\nAvailable values after conversion:\")\n",
    "print(df_calendar_clean['available'].value_counts())"
   ]
  },
  {
   "cell_type": "code",
   "execution_count": 10,
   "id": "a71e8ce4-bdfa-4bc1-8044-7234eb639f8a",
   "metadata": {},
   "outputs": [
    {
     "name": "stdout",
     "output_type": "stream",
     "text": [
      "Missing values in nights columns:\n",
      "minimum_nights: 39\n",
      "maximum_nights: 39\n"
     ]
    }
   ],
   "source": [
    "print(\"Missing values in nights columns:\")\n",
    "print(f\"minimum_nights: {df_calendar_clean['minimum_nights'].isnull().sum()}\")\n",
    "print(f\"maximum_nights: {df_calendar_clean['maximum_nights'].isnull().sum()}\")\n"
   ]
  },
  {
   "cell_type": "code",
   "execution_count": 11,
   "id": "c78b03cd-a9a0-4877-b32f-6bb0c96646b4",
   "metadata": {},
   "outputs": [
    {
     "name": "stdout",
     "output_type": "stream",
     "text": [
      "\n",
      "Rows with missing nights:\n",
      "         listing_id       date  available  price  minimum_nights  \\\n",
      "9438         231220 2025-03-15      False   32.0             NaN   \n",
      "1068408    17077519 2025-03-15       True  229.0             NaN   \n",
      "1195722    18846314 2025-03-15      False  200.0             NaN   \n",
      "1340223    21560531 2025-03-15      False   86.0             NaN   \n",
      "1458091    23731129 2025-03-15      False  199.0             NaN   \n",
      "\n",
      "         maximum_nights  \n",
      "9438                NaN  \n",
      "1068408             NaN  \n",
      "1195722             NaN  \n",
      "1340223             NaN  \n",
      "1458091             NaN  \n"
     ]
    }
   ],
   "source": [
    "# Look at some examples\n",
    "print(\"\\nRows with missing nights:\")\n",
    "missing_nights = df_calendar_clean[df_calendar_clean['minimum_nights'].isnull()]\n",
    "print(missing_nights.head())"
   ]
  },
  {
   "cell_type": "code",
   "execution_count": 12,
   "id": "af640a2c-5279-454e-9815-f780130edc0d",
   "metadata": {},
   "outputs": [
    {
     "name": "stdout",
     "output_type": "stream",
     "text": [
      "Dates with missing nights:\n",
      "date\n",
      "2025-03-15    39\n",
      "Name: count, dtype: int64\n",
      "\n",
      "Total entries for 2025-03-15: 3875\n",
      "Missing nights on 2025-03-15: 39\n"
     ]
    }
   ],
   "source": [
    "print(\"Dates with missing nights:\")\n",
    "print(df_calendar_clean[df_calendar_clean['minimum_nights'].isnull()]['date'].value_counts())\n",
    "\n",
    "# Check how many total listings have data for 2025-03-15\n",
    "print(f\"\\nTotal entries for 2025-03-15: {len(df_calendar_clean[df_calendar_clean['date'] == '2025-03-15'])}\")\n",
    "print(f\"Missing nights on 2025-03-15: {len(missing_nights)}\")"
   ]
  },
  {
   "cell_type": "code",
   "execution_count": 13,
   "id": "2b8fe494-48b6-4951-a76c-6653d5b180ff",
   "metadata": {},
   "outputs": [
    {
     "name": "stdout",
     "output_type": "stream",
     "text": [
      "Filling missing nights with listing-specific medians...\n",
      "Missing minimum_nights after fix: 0\n",
      "Missing maximum_nights after fix: 0\n"
     ]
    }
   ],
   "source": [
    "# Fill missing nights with each listing's typical values\n",
    "print(\"Filling missing nights with listing-specific medians...\")\n",
    "\n",
    "# Calculate median nights for each listing\n",
    "listing_medians = df_calendar_clean.groupby('listing_id')[['minimum_nights', 'maximum_nights']].median()\n",
    "\n",
    "# Fill missing values\n",
    "for idx in df_calendar_clean[df_calendar_clean['minimum_nights'].isnull()].index:\n",
    "    listing_id = df_calendar_clean.loc[idx, 'listing_id']\n",
    "    \n",
    "    if listing_id in listing_medians.index:\n",
    "        df_calendar_clean.loc[idx, 'minimum_nights'] = listing_medians.loc[listing_id, 'minimum_nights']\n",
    "        df_calendar_clean.loc[idx, 'maximum_nights'] = listing_medians.loc[listing_id, 'maximum_nights']\n",
    "\n",
    "# Verify the fix\n",
    "print(f\"Missing minimum_nights after fix: {df_calendar_clean['minimum_nights'].isnull().sum()}\")\n",
    "print(f\"Missing maximum_nights after fix: {df_calendar_clean['maximum_nights'].isnull().sum()}\")"
   ]
  },
  {
   "cell_type": "code",
   "execution_count": 14,
   "id": "f122a942-3806-46a6-8b26-a8833aecd10b",
   "metadata": {},
   "outputs": [
    {
     "name": "stdout",
     "output_type": "stream",
     "text": [
      "Number of entries with $0 price: 365\n",
      "Percentage of total data: 0.01%\n",
      "\n",
      "Sample of zero price entries:\n",
      "         listing_id       date  available  price  minimum_nights  \\\n",
      "1660891    28175257 2025-03-16       True    0.0             1.0   \n",
      "1660892    28175257 2025-03-17       True    0.0             1.0   \n",
      "1660893    28175257 2025-03-18      False    0.0             1.0   \n",
      "1660894    28175257 2025-03-19       True    0.0             1.0   \n",
      "1660895    28175257 2025-03-20       True    0.0             1.0   \n",
      "1660896    28175257 2025-03-21       True    0.0             1.0   \n",
      "1660897    28175257 2025-03-22       True    0.0             1.0   \n",
      "1660898    28175257 2025-03-23       True    0.0             1.0   \n",
      "1660899    28175257 2025-03-24       True    0.0             1.0   \n",
      "1660900    28175257 2025-03-25      False    0.0             1.0   \n",
      "\n",
      "         maximum_nights  \n",
      "1660891          1125.0  \n",
      "1660892          1125.0  \n",
      "1660893          1125.0  \n",
      "1660894          1125.0  \n",
      "1660895          1125.0  \n",
      "1660896          1125.0  \n",
      "1660897          1125.0  \n",
      "1660898          1125.0  \n",
      "1660899          1125.0  \n",
      "1660900          1125.0  \n",
      "\n",
      "Are zero prices correlated with availability?\n",
      "available\n",
      "True     349\n",
      "False     16\n",
      "Name: count, dtype: int64\n",
      "% of zero prices that are unavailable: 4.4%\n",
      "\n",
      "Unique listings with zero prices:\n",
      "Number of unique listings: 1\n",
      "\n",
      "Date distribution of zero prices:\n",
      "date\n",
      "2026-03-15    1\n",
      "2025-03-16    1\n",
      "2025-03-17    1\n",
      "2025-03-18    1\n",
      "2025-03-19    1\n",
      "2025-03-20    1\n",
      "2025-03-21    1\n",
      "2025-03-22    1\n",
      "2025-03-23    1\n",
      "2025-03-24    1\n",
      "Name: count, dtype: int64\n"
     ]
    }
   ],
   "source": [
    "zero_prices = df_calendar_clean[df_calendar_clean['price'] == 0]\n",
    "print(f\"Number of entries with $0 price: {len(zero_prices)}\")\n",
    "print(f\"Percentage of total data: {len(zero_prices)/len(df_calendar_clean)*100:.2f}%\")\n",
    "\n",
    "print(\"\\nSample of zero price entries:\")\n",
    "print(zero_prices.head(10))\n",
    "\n",
    "print(\"\\nAre zero prices correlated with availability?\")\n",
    "print(zero_prices['available'].value_counts())\n",
    "print(f\"% of zero prices that are unavailable: {(~zero_prices['available']).mean()*100:.1f}%\")\n",
    "\n",
    "print(\"\\nUnique listings with zero prices:\")\n",
    "print(f\"Number of unique listings: {zero_prices['listing_id'].nunique()}\")\n",
    "\n",
    "print(\"\\nDate distribution of zero prices:\")\n",
    "print(zero_prices['date'].dt.date.value_counts().head(10))"
   ]
  },
  {
   "cell_type": "code",
   "execution_count": 15,
   "id": "4cdaab7f-2f23-4b97-9c6a-2a9028002b6d",
   "metadata": {},
   "outputs": [],
   "source": [
    "df_calendar_cleaned = df_calendar_clean[df_calendar_clean['listing_id'] != 28175257].copy()"
   ]
  },
  {
   "cell_type": "code",
   "execution_count": 16,
   "id": "d768603f-f19f-49de-9ed4-629be4234cfd",
   "metadata": {},
   "outputs": [
    {
     "name": "stdout",
     "output_type": "stream",
     "text": [
      "=== CALENDAR DATA CLEANING SUMMARY ===\n",
      "Final shape: (5085500, 6)\n",
      "Columns: ['listing_id', 'date', 'available', 'price', 'minimum_nights', 'maximum_nights']\n",
      "\n",
      "Data types after cleaning:\n",
      "listing_id                 int64\n",
      "date              datetime64[ns]\n",
      "available                   bool\n",
      "price                    float64\n",
      "minimum_nights           float64\n",
      "maximum_nights           float64\n",
      "dtype: object\n",
      "\n",
      "Missing values after cleaning:\n",
      "listing_id        0\n",
      "date              0\n",
      "available         0\n",
      "price             0\n",
      "minimum_nights    0\n",
      "maximum_nights    0\n",
      "dtype: int64\n",
      "\n",
      "Sample of cleaned data:\n",
      "   listing_id       date  available  price  minimum_nights  maximum_nights\n",
      "0      214518 2025-03-16       True   51.0             3.0            21.0\n",
      "1      214518 2025-03-17       True   51.0             3.0            21.0\n",
      "2      214518 2025-03-18       True   51.0             3.0            21.0\n",
      "3      214518 2025-03-19       True   51.0             3.0            21.0\n",
      "4      214518 2025-03-20       True   51.0             3.0            21.0\n",
      "\n",
      "Price range: $8.00 - $10000.00\n",
      "Date range: 2025-03-15 to 2026-03-16\n",
      "Available vs Not Available:\n",
      "available\n",
      "False    3228000\n",
      "True     1857500\n",
      "Name: count, dtype: int64\n"
     ]
    }
   ],
   "source": [
    "# Final validation\n",
    "print(\"=== CALENDAR DATA CLEANING SUMMARY ===\")\n",
    "print(f\"Final shape: {df_calendar_cleaned.shape}\")\n",
    "print(f\"Columns: {df_calendar_cleaned.columns.tolist()}\")\n",
    "print(\"\\nData types after cleaning:\")\n",
    "print(df_calendar_cleaned.dtypes)\n",
    "print(\"\\nMissing values after cleaning:\")\n",
    "print(df_calendar_cleaned.isnull().sum())\n",
    "print(\"\\nSample of cleaned data:\")\n",
    "print(df_calendar_cleaned.head())\n",
    "print(f\"\\nPrice range: ${df_calendar_cleaned['price'].min():.2f} - ${df_calendar_cleaned['price'].max():.2f}\")\n",
    "print(f\"Date range: {df_calendar_cleaned['date'].min().date()} to {df_calendar_cleaned['date'].max().date()}\")\n",
    "print(f\"Available vs Not Available:\")\n",
    "print(df_calendar_cleaned['available'].value_counts())"
   ]
  },
  {
   "cell_type": "code",
   "execution_count": 20,
   "id": "10b651e1-bccd-4e6d-bd58-8ed63bf62c89",
   "metadata": {},
   "outputs": [],
   "source": [
    "MAX_CAP = 365    \n",
    "MIN_CAP = 90     \n",
    "\n",
    "# 2. Cap the values\n",
    "df_calendar_cleaned['maximum_nights'] = df_calendar_cleaned['maximum_nights'].clip(upper=MAX_CAP)\n",
    "df_calendar_cleaned['minimum_nights'] = df_calendar_cleaned['minimum_nights'].clip(upper=MIN_CAP)\n",
    "\n",
    "# 3. Fix any remaining cases where minimum > maximum\n",
    "mask = df_calendar_cleaned['minimum_nights'] > df_calendar_cleaned['maximum_nights']\n",
    "df_calendar_cleaned.loc[mask, 'minimum_nights'] = df_calendar_cleaned.loc[mask, 'maximum_nights']"
   ]
  },
  {
   "cell_type": "code",
   "execution_count": 22,
   "id": "8c51ec9b-9de7-42aa-8111-d0880be8957f",
   "metadata": {},
   "outputs": [
    {
     "name": "stdout",
     "output_type": "stream",
     "text": [
      "IQR range: [54.00, 140.00] → bounds: [-75.00, 269.00]\n"
     ]
    }
   ],
   "source": [
    "Q1 = df_calendar_cleaned['price'].quantile(0.25)\n",
    "Q3 = df_calendar_cleaned['price'].quantile(0.75)\n",
    "IQR = Q3 - Q1\n",
    "\n",
    "lower_bound = Q1 - 1.5 * IQR\n",
    "upper_bound = Q3 + 1.5 * IQR\n",
    "\n",
    "print(f\"IQR range: [{Q1:.2f}, {Q3:.2f}] → bounds: [{lower_bound:.2f}, {upper_bound:.2f}]\")\n"
   ]
  },
  {
   "cell_type": "code",
   "execution_count": 25,
   "id": "ef870b6d-c58a-49af-bd55-ed74e6341972",
   "metadata": {},
   "outputs": [
    {
     "name": "stdout",
     "output_type": "stream",
     "text": [
      "Listings > $269.0: 453630 rows (8.92% of total)\n"
     ]
    }
   ],
   "source": [
    "upper_bound = 269.0\n",
    "high_outliers = df_calendar_cleaned[df_calendar_cleaned['price'] > upper_bound]\n",
    "\n",
    "count = len(high_outliers)\n",
    "pct   = count / len(df_calendar_cleaned) * 100\n",
    "\n",
    "print(f\"Listings > ${upper_bound}: {count} rows ({pct:.2f}% of total)\")\n"
   ]
  },
  {
   "cell_type": "code",
   "execution_count": 27,
   "id": "8d18163f-dd3c-4691-8d2b-f59d6f1951f9",
   "metadata": {},
   "outputs": [
    {
     "name": "stdout",
     "output_type": "stream",
     "text": [
      "Days above $269 → # of listings\n",
      "days_count\n",
      "350      33\n",
      "351      22\n",
      "365    1182\n",
      "366       8\n",
      "Name: count, dtype: int64\n"
     ]
    }
   ],
   "source": [
    "listing_stats = (\n",
    "    high_outliers\n",
    "    .groupby('listing_id')['price']\n",
    "    .agg(days_count='count')\n",
    "    .reset_index()\n",
    ")\n",
    "\n",
    "dist = listing_stats['days_count'].value_counts().sort_index()\n",
    "print(\"Days above $269 → # of listings\")\n",
    "print(dist)\n"
   ]
  },
  {
   "cell_type": "code",
   "execution_count": 28,
   "id": "64446236-2b6e-4dff-a164-129429a32663",
   "metadata": {},
   "outputs": [
    {
     "name": "stdout",
     "output_type": "stream",
     "text": [
      "Top 10 price levels → # of listings\n",
      "price\n",
      "999.0     189\n",
      "300.0     141\n",
      "1000.0    113\n",
      "500.0     104\n",
      "350.0      70\n",
      "400.0      37\n",
      "280.0      35\n",
      "299.0      27\n",
      "450.0      22\n",
      "290.0      18\n",
      "Name: count, dtype: int64\n"
     ]
    }
   ],
   "source": [
    "fixed = high_outliers.groupby('listing_id')['price'].first()\n",
    "top10 = fixed.value_counts().sort_values(ascending=False).head(10)\n",
    "print(\"Top 10 price levels → # of listings\")\n",
    "print(top10)\n"
   ]
  },
  {
   "cell_type": "code",
   "execution_count": 29,
   "id": "6bc9fffe-0903-48b0-82e7-54fab92c4c1a",
   "metadata": {},
   "outputs": [
    {
     "name": "stdout",
     "output_type": "stream",
     "text": [
      "0th percentile: $270.00\n",
      "5th percentile: $280.00\n",
      "25th percentile: $315.00\n",
      "50th percentile: $499.00\n",
      "75th percentile: $999.00\n",
      "90th percentile: $1000.00\n",
      "95th percentile: $1000.00\n",
      "99th percentile: $8952.48\n",
      "100th percentile: $10000.00\n"
     ]
    }
   ],
   "source": [
    "import numpy as np\n",
    "percentiles = np.percentile(fixed.values, [0,5,25,50,75,90,95,99,100])\n",
    "labels = ['0th','5th','25th','50th','75th','90th','95th','99th','100th']\n",
    "for lab, val in zip(labels, percentiles):\n",
    "    print(f\"{lab} percentile: ${val:.2f}\")\n"
   ]
  },
  {
   "cell_type": "code",
   "execution_count": 30,
   "id": "5efb5347-08e3-4c6e-a7a3-5e47943a9009",
   "metadata": {},
   "outputs": [
    {
     "data": {
      "image/png": "[encoded data removed]",
      "text/plain": [
       "<Figure size 640x480 with 1 Axes>"
      ]
     },
     "metadata": {},
     "output_type": "display_data"
    }
   ],
   "source": [
    "import matplotlib.pyplot as plt\n",
    "\n",
    "plt.figure()\n",
    "plt.hist(fixed.values, bins=30)\n",
    "plt.title('Histogram of Fixed Nightly Prices\\nfor “Luxury” Listings')\n",
    "plt.xlabel('Price')\n",
    "plt.ylabel('Number of Listings')\n",
    "plt.tight_layout()\n",
    "plt.show()\n"
   ]
  },
  {
   "cell_type": "code",
   "execution_count": 33,
   "id": "2ed32cf4-6286-4c2d-be49-7a27a8715664",
   "metadata": {},
   "outputs": [
    {
     "name": "stdout",
     "output_type": "stream",
     "text": [
      "             listing_id    price  days_total  days_booked  pct_booked\n",
      "4              14201780   5000.0         365          365  100.000000\n",
      "15             51936436  10000.0         365          365  100.000000\n",
      "34  1234530954609092050   9999.0         365          327   89.589041\n",
      "33  1234483210719889178   9999.0         365          293   80.273973\n",
      "28  1234472636497962021   9999.0         365          289   79.178082\n",
      "32  1234483190089885723   9999.0         365          287   78.630137\n",
      "9              20109066   9999.0         365          286   78.356164\n",
      "13             39877586   1500.0         365          277   75.890411\n",
      "0               2860420   2500.0         365          276   75.616438\n",
      "25  1213112096582667346   9000.0         365          250   68.493151\n",
      "21  1162854339540261066   1750.0         365          240   65.753425\n",
      "26  1221807351062027376   1180.0         365          236   64.657534\n",
      "23  1184018203650802870   5750.0         366          220   60.109290\n",
      "22  1163589720186876018   2300.0         365          217   59.452055\n",
      "29  1234473450946805436   9999.0         365          206   56.438356\n",
      "12             38585015   9999.0         365          189   51.780822\n",
      "6              16799799   1580.0         365          185   50.684932\n",
      "17   878826177428184607   4640.0         365          171   46.849315\n",
      "16   873230612368758488   1393.0         365          152   41.643836\n",
      "30  1234474294833419521   9999.0         365          144   39.452055\n",
      "27  1223854054462654789   3540.0         365          141   38.630137\n",
      "3              13868134   1800.0         365          136   37.260274\n",
      "5              16245953   1500.0         365          131   35.890411\n",
      "10             20109071   9999.0         365          118   32.328767\n",
      "2               9268629   1750.0         365          106   29.041096\n",
      "31  1234480152776356938   9999.0         365           98   26.849315\n",
      "19  1132061745312730172   1250.0         365           96   26.301370\n",
      "24  1187001536665833992   1500.0         365           95   26.027397\n",
      "36  1241959961142780221   3999.0         365           88   24.109589\n",
      "35  1241940844364769953   3999.0         365           85   23.287671\n",
      "38  1241967032582153264   3999.0         365           85   23.287671\n",
      "41  1241977206055551220   3999.0         365           82   22.465753\n",
      "37  1241964448389563994   3999.0         365           80   21.917808\n",
      "39  1241970814716581669   3999.0         365           80   21.917808\n",
      "40  1241974619058695453   3999.0         365           80   21.917808\n",
      "42  1241979246200643516   3999.0         365           80   21.917808\n",
      "11             32547787   1240.0         365           61   16.712329\n",
      "20  1153347381591823573   1400.0         365           61   16.712329\n",
      "8              19961235   1850.0         365           45   12.328767\n",
      "45  1304222406230078996   8892.0         365           32    8.767123\n",
      "44  1304214931016039725   8892.0         366           17    4.644809\n",
      "14             49850122   2000.0         365           15    4.109589\n",
      "1               7807397   2000.0         365            7    1.917808\n",
      "43  1302877788989698081   8889.0         365            7    1.917808\n",
      "18  1039600148739238628   1500.0         365            1    0.273973\n",
      "7              18402844   1500.0         365            0    0.000000\n",
      "46  1308898982372404652   1150.0         365            0    0.000000\n",
      "47  1327360942766384069   1500.0         365            0    0.000000\n"
     ]
    }
   ],
   "source": [
    "# 1. Filter to the high-price rows\n",
    "high1500 = df_calendar_cleaned[df_calendar_cleaned['price'] > 1000]\n",
    "\n",
    "# 2. Group by listing & price to get total days and booked days\n",
    "booking_stats = (\n",
    "    high1500\n",
    "      .groupby(['listing_id','price'])\n",
    "      .agg(\n",
    "          days_total = ('date','count'),\n",
    "          days_booked = ('available', lambda x: (~x).sum())\n",
    "      )\n",
    "      .reset_index()\n",
    ")\n",
    "\n",
    "# 3. Compute percent booked\n",
    "booking_stats['pct_booked'] = (\n",
    "    booking_stats['days_booked'] / booking_stats['days_total'] * 100\n",
    ")\n",
    "\n",
    "# 4. Sort by pct_booked (or days_booked) to see which ultra-luxury homes actually fill up\n",
    "booking_stats = booking_stats.sort_values(\n",
    "    by=['pct_booked','days_booked'], ascending=False\n",
    ")\n",
    "\n",
    "# 5. Inspect\n",
    "print(booking_stats)   \n"
   ]
  },
  {
   "cell_type": "code",
   "execution_count": 34,
   "id": "73aa43d7-2d4e-4afb-a0e8-8bbd9829eec9",
   "metadata": {},
   "outputs": [],
   "source": [
    "invalid_ids = booking_stats.loc[booking_stats.pct_booked < 1, 'listing_id']\n",
    "df_calendar_cleaned = df_calendar_cleaned.loc[\n",
    "    ~df_calendar_cleaned['listing_id'].isin(invalid_ids)\n",
    "].copy()"
   ]
  },
  {
   "cell_type": "code",
   "execution_count": 44,
   "id": "4bf0edec-9cc2-48d6-87a6-eeebc0358d9d",
   "metadata": {},
   "outputs": [
    {
     "name": "stdout",
     "output_type": "stream",
     "text": [
      "Rows remaining:                  5080390\n",
      "Distinct listings left:          13921\n",
      "Distinct listings flagged lux: 44\n"
     ]
    }
   ],
   "source": [
    "high_counts = (\n",
    "    df_calendar_cleaned[df_calendar_cleaned['price'] > 1000]\n",
    "      .groupby('listing_id')\n",
    "      .size()\n",
    ")\n",
    "\n",
    "# require at least 350 such days\n",
    "luxury_ids = high_counts[high_counts >= 350].index\n",
    "\n",
    "# 3. Flag them\n",
    "df_calendar_cleaned['is_luxury_listing'] = (\n",
    "    df_calendar_cleaned['listing_id'].isin(luxury_ids)\n",
    ")\n",
    "\n",
    "# 4. Sanity check\n",
    "print(\"Rows remaining:                 \", df_calendar_cleaned.shape[0])\n",
    "print(\"Distinct listings left:         \", df_calendar_cleaned['listing_id'].nunique())\n",
    "print(\"Distinct listings flagged lux:\", df_calendar_cleaned.loc[df_calendar_cleaned['is_luxury_listing'], 'listing_id'].nunique())\n"
   ]
  },
  {
   "cell_type": "code",
   "execution_count": 46,
   "id": "b536f099-8737-4733-9e75-bd7eb2267eee",
   "metadata": {},
   "outputs": [
    {
     "data": {
      "image/png": "[encoded data removed]",
      "text/plain": [
       "<Figure size 640x480 with 1 Axes>"
      ]
     },
     "metadata": {},
     "output_type": "display_data"
    }
   ],
   "source": [
    "plt.figure()\n",
    "plt.hist(df_calendar_cleaned['price'], bins=150)\n",
    "plt.xlabel('Price')\n",
    "plt.ylabel('Number of Listings')\n",
    "plt.title('Distribution of Listing Prices')\n",
    "plt.tight_layout()\n",
    "plt.show()"
   ]
  },
  {
   "cell_type": "code",
   "execution_count": 47,
   "id": "06b50568-8644-487c-a317-4d5a8a1553d8",
   "metadata": {},
   "outputs": [
    {
     "name": "stdout",
     "output_type": "stream",
     "text": [
      "Stored 'df_calendar_cleaned' (DataFrame)\n"
     ]
    }
   ],
   "source": [
    "%store df_calendar_cleaned"
   ]
  },
  {
   "cell_type": "code",
   "execution_count": null,
   "id": "26855dbb-52ee-4503-98c7-4593cc3d65c5",
   "metadata": {},
   "outputs": [],
   "source": []
  }
 ],
 "metadata": {
  "kernelspec": {
   "display_name": "Python 3 (ipykernel)",
   "language": "python",
   "name": "python3"
  },
  "language_info": {
   "codemirror_mode": {
    "name": "ipython",
    "version": 3
   },
   "file_extension": ".py",
   "mimetype": "text/x-python",
   "name": "python",
   "nbconvert_exporter": "python",
   "pygments_lexer": "ipython3",
   "version": "3.11.9"
  }
 },
 "nbformat": 4,
 "nbformat_minor": 5
}
