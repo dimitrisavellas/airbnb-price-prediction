{
 "cells": [
  {
   "cell_type": "code",
   "execution_count": 38,
   "id": "7cf2fbd1-fccb-43c1-9663-4911d2786ca1",
   "metadata": {},
   "outputs": [
    {
     "name": "stdout",
     "output_type": "stream",
     "text": [
      "✅ Working directory set to: C:\\Users\\thage\\Desktop\\airbnb-price-prediction-main\\data\\processed\n",
      "🗓️ Calendar: (1843140, 7)\n",
      "🏠 Listings: (13934, 79)\n",
      "🗺️ Spatial: (138, 3)\n",
      "📝 Text: (304691, 6)\n",
      "📌 listings columns: ['id', 'listing_url', 'scrape_id', 'last_scraped', 'source', 'name', 'description', 'neighborhood_overview', 'picture_url', 'host_id', 'host_url', 'host_name', 'host_since', 'host_location', 'host_about', 'host_response_time', 'host_response_rate', 'host_acceptance_rate', 'host_is_superhost', 'host_thumbnail_url', 'host_picture_url', 'host_neighbourhood', 'host_listings_count', 'host_total_listings_count', 'host_verifications', 'host_has_profile_pic', 'host_identity_verified', 'neighbourhood', 'neighbourhood_cleansed', 'neighbourhood_group_cleansed', 'latitude', 'longitude', 'property_type', 'room_type', 'accommodates', 'bathrooms', 'bathrooms_text', 'bedrooms', 'beds', 'amenities', 'price', 'minimum_nights', 'maximum_nights', 'minimum_minimum_nights', 'maximum_minimum_nights', 'minimum_maximum_nights', 'maximum_maximum_nights', 'minimum_nights_avg_ntm', 'maximum_nights_avg_ntm', 'calendar_updated', 'has_availability', 'availability_30', 'availability_60', 'availability_90', 'availability_365', 'calendar_last_scraped', 'number_of_reviews', 'number_of_reviews_ltm', 'number_of_reviews_l30d', 'availability_eoy', 'number_of_reviews_ly', 'estimated_occupancy_l365d', 'estimated_revenue_l365d', 'first_review', 'last_review', 'review_scores_rating', 'review_scores_accuracy', 'review_scores_cleanliness', 'review_scores_checkin', 'review_scores_communication', 'review_scores_location', 'review_scores_value', 'license', 'instant_bookable', 'calculated_host_listings_count', 'calculated_host_listings_count_entire_homes', 'calculated_host_listings_count_private_rooms', 'calculated_host_listings_count_shared_rooms', 'reviews_per_month']\n",
      "📌 spatial columns: ['neighbourhood_group', 'neighbourhood', 'geometry']\n",
      "📌 text columns: ['listing_id', 'id', 'date', 'reviewer_id', 'reviewer_name', 'comments_clean']\n",
      "✅ Final merged DataFrame shape: (13934, 88)\n",
      "📌 Columns: ['id', 'listing_url', 'scrape_id', 'last_scraped', 'source', 'name', 'description', 'neighborhood_overview', 'picture_url', 'host_id', 'host_url', 'host_name', 'host_since', 'host_location', 'host_about', 'host_response_time', 'host_response_rate', 'host_acceptance_rate', 'host_is_superhost', 'host_thumbnail_url', 'host_picture_url', 'host_neighbourhood', 'host_listings_count', 'host_total_listings_count', 'host_verifications', 'host_has_profile_pic', 'host_identity_verified', 'neighbourhood', 'neighbourhood_cleansed', 'neighbourhood_group_cleansed', 'latitude', 'longitude', 'property_type', 'room_type', 'accommodates', 'bathrooms', 'bathrooms_text', 'bedrooms', 'beds', 'amenities', 'price', 'minimum_nights', 'maximum_nights', 'minimum_minimum_nights', 'maximum_minimum_nights', 'minimum_maximum_nights', 'maximum_maximum_nights', 'minimum_nights_avg_ntm', 'maximum_nights_avg_ntm', 'calendar_updated', 'has_availability', 'availability_30', 'availability_60', 'availability_90', 'availability_365', 'calendar_last_scraped', 'number_of_reviews', 'number_of_reviews_ltm', 'number_of_reviews_l30d', 'availability_eoy', 'number_of_reviews_ly', 'estimated_occupancy_l365d', 'estimated_revenue_l365d', 'first_review', 'last_review', 'review_scores_rating', 'review_scores_accuracy', 'review_scores_cleanliness', 'review_scores_checkin', 'review_scores_communication', 'review_scores_location', 'review_scores_value', 'license', 'instant_bookable', 'calculated_host_listings_count', 'calculated_host_listings_count_entire_homes', 'calculated_host_listings_count_private_rooms', 'calculated_host_listings_count_shared_rooms', 'reviews_per_month', 'neighbourhood_group', 'geometry', 'listing_id_x', 'date', 'reviewer_id', 'reviewer_name', 'comments_clean', 'listing_id_y', 'avg_price_per_listing']\n",
      "📁 Saved as airbnb_merged_listing_level.csv\n"
     ]
    }
   ],
   "source": [
    "import pandas as pd\n",
    "import os\n",
    "\n",
    "# Set working directory\n",
    "os.chdir(r\"C:\\Users\\thage\\Desktop\\airbnb-price-prediction-main\\data\\processed\")\n",
    "print(\"✅ Working directory set to:\", os.getcwd())\n",
    "\n",
    "# Load all data correctly\n",
    "calendar = pd.read_csv(\"calendar_clean3.csv\", low_memory=False)\n",
    "listings = pd.read_csv(\"listings.xlsx.csv\", low_memory=False)\n",
    "spatial = pd.read_csv(\"spatial_data.csv\")\n",
    "text = pd.read_csv(\"text_data.csv.xz\")\n",
    "\n",
    "# Optional: check shapes\n",
    "print(\"🗓️ Calendar:\", calendar.shape)\n",
    "print(\"🏠 Listings:\", listings.shape)\n",
    "print(\"🗺️ Spatial:\", spatial.shape)\n",
    "print(\"📝 Text:\", text.shape)\n",
    "\n",
    "print(\"📌 listings columns:\", listings.columns.tolist())\n",
    "print(\"📌 spatial columns:\", spatial.columns.tolist())\n",
    "print(\"📌 text columns:\", text.columns.tolist())\n",
    "# Merge listings with spatial data on 'neighbourhood'\n",
    "df = listings.merge(spatial, on=\"neighbourhood\", how=\"left\")\n",
    "\n",
    "# Step 1: Merge listings with spatial data on 'neighbourhood'\n",
    "df = listings.merge(spatial, on=\"neighbourhood\", how=\"left\")\n",
    "\n",
    "# Step 2: Merge with text data on 'id'\n",
    "df = df.merge(text, on=\"id\", how=\"left\")\n",
    "\n",
    "# Step 3: Calculate average price per listing from calendar\n",
    "avg_price = calendar.groupby(\"listing_id\")[\"price\"].mean().reset_index()\n",
    "avg_price.rename(columns={\"price\": \"avg_price_per_listing\"}, inplace=True)\n",
    "\n",
    "# Step 4: Merge average price into df using 'id' from listings and 'listing_id' from calendar\n",
    "df = df.merge(avg_price, left_on=\"id\", right_on=\"listing_id\", how=\"left\")\n",
    "\n",
    "# Step 5: Drop 'listing_id' only if it exists in df.columns\n",
    "if \"listing_id\" in df.columns:\n",
    "    df.drop(columns=[\"listing_id\"], inplace=True)\n",
    "\n",
    "# Step 6: Print final shape and column list\n",
    "print(\"✅ Final merged DataFrame shape:\", df.shape)\n",
    "print(\"📌 Columns:\", df.columns.tolist())\n",
    "\n",
    "# Step 7: Save merged dataset\n",
    "df.to_csv(\"airbnb_merged_listing_level.csv\", index=False)\n",
    "print(\"📁 Saved as airbnb_merged_listing_level.csv\")\n",
    "\n",
    "\n",
    "\n"
   ]
  }
 ],
 "metadata": {
  "kernelspec": {
   "display_name": "Python [conda env:base] *",
   "language": "python",
   "name": "conda-base-py"
  },
  "language_info": {
   "codemirror_mode": {
    "name": "ipython",
    "version": 3
   },
   "file_extension": ".py",
   "mimetype": "text/x-python",
   "name": "python",
   "nbconvert_exporter": "python",
   "pygments_lexer": "ipython3",
   "version": "3.12.7"
  }
 },
 "nbformat": 4,
 "nbformat_minor": 5
}
